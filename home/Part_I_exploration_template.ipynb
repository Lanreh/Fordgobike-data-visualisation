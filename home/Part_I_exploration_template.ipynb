{
 "cells": [
  {
   "cell_type": "markdown",
   "metadata": {},
   "source": [
    "# Part I - (Ford GoBike System Data Exploration)\n",
    "## by (OLADEJO OLANREWAJU OLAWALE)\n",
    "\n",
    "## Introduction\n",
    ">  This data set includes information about individual rides made in a bike-sharing system covering the greater San Francisco Bay area.\n",
    "\n",
    "\n",
    "\n",
    "## Preliminary Wrangling\n"
   ]
  },
  {
   "cell_type": "code",
   "execution_count": 105,
   "metadata": {},
   "outputs": [],
   "source": [
    "# import all packages and set plots to be embedded inline\n",
    "import numpy as np\n",
    "import pandas as pd\n",
    "import matplotlib.pyplot as plt\n",
    "import seaborn as sb\n",
    "\n",
    "%matplotlib inline"
   ]
  },
  {
   "cell_type": "markdown",
   "metadata": {},
   "source": [
    "\n"
   ]
  },
  {
   "cell_type": "code",
   "execution_count": 106,
   "metadata": {},
   "outputs": [
    {
     "data": {
      "text/html": [
       "<div>\n",
       "<style scoped>\n",
       "    .dataframe tbody tr th:only-of-type {\n",
       "        vertical-align: middle;\n",
       "    }\n",
       "\n",
       "    .dataframe tbody tr th {\n",
       "        vertical-align: top;\n",
       "    }\n",
       "\n",
       "    .dataframe thead th {\n",
       "        text-align: right;\n",
       "    }\n",
       "</style>\n",
       "<table border=\"1\" class=\"dataframe\">\n",
       "  <thead>\n",
       "    <tr style=\"text-align: right;\">\n",
       "      <th></th>\n",
       "      <th>duration_sec</th>\n",
       "      <th>start_time</th>\n",
       "      <th>end_time</th>\n",
       "      <th>start_station_id</th>\n",
       "      <th>start_station_name</th>\n",
       "      <th>start_station_latitude</th>\n",
       "      <th>start_station_longitude</th>\n",
       "      <th>end_station_id</th>\n",
       "      <th>end_station_name</th>\n",
       "      <th>end_station_latitude</th>\n",
       "      <th>end_station_longitude</th>\n",
       "      <th>bike_id</th>\n",
       "      <th>user_type</th>\n",
       "      <th>member_birth_year</th>\n",
       "      <th>member_gender</th>\n",
       "      <th>bike_share_for_all_trip</th>\n",
       "    </tr>\n",
       "  </thead>\n",
       "  <tbody>\n",
       "    <tr>\n",
       "      <th>0</th>\n",
       "      <td>52185</td>\n",
       "      <td>2019-02-28 17:32:10.1450</td>\n",
       "      <td>2019-03-01 08:01:55.9750</td>\n",
       "      <td>21.0</td>\n",
       "      <td>Montgomery St BART Station (Market St at 2nd St)</td>\n",
       "      <td>37.789625</td>\n",
       "      <td>-122.400811</td>\n",
       "      <td>13.0</td>\n",
       "      <td>Commercial St at Montgomery St</td>\n",
       "      <td>37.794231</td>\n",
       "      <td>-122.402923</td>\n",
       "      <td>4902</td>\n",
       "      <td>Customer</td>\n",
       "      <td>1984.0</td>\n",
       "      <td>Male</td>\n",
       "      <td>No</td>\n",
       "    </tr>\n",
       "    <tr>\n",
       "      <th>1</th>\n",
       "      <td>42521</td>\n",
       "      <td>2019-02-28 18:53:21.7890</td>\n",
       "      <td>2019-03-01 06:42:03.0560</td>\n",
       "      <td>23.0</td>\n",
       "      <td>The Embarcadero at Steuart St</td>\n",
       "      <td>37.791464</td>\n",
       "      <td>-122.391034</td>\n",
       "      <td>81.0</td>\n",
       "      <td>Berry St at 4th St</td>\n",
       "      <td>37.775880</td>\n",
       "      <td>-122.393170</td>\n",
       "      <td>2535</td>\n",
       "      <td>Customer</td>\n",
       "      <td>NaN</td>\n",
       "      <td>NaN</td>\n",
       "      <td>No</td>\n",
       "    </tr>\n",
       "    <tr>\n",
       "      <th>2</th>\n",
       "      <td>61854</td>\n",
       "      <td>2019-02-28 12:13:13.2180</td>\n",
       "      <td>2019-03-01 05:24:08.1460</td>\n",
       "      <td>86.0</td>\n",
       "      <td>Market St at Dolores St</td>\n",
       "      <td>37.769305</td>\n",
       "      <td>-122.426826</td>\n",
       "      <td>3.0</td>\n",
       "      <td>Powell St BART Station (Market St at 4th St)</td>\n",
       "      <td>37.786375</td>\n",
       "      <td>-122.404904</td>\n",
       "      <td>5905</td>\n",
       "      <td>Customer</td>\n",
       "      <td>1972.0</td>\n",
       "      <td>Male</td>\n",
       "      <td>No</td>\n",
       "    </tr>\n",
       "    <tr>\n",
       "      <th>3</th>\n",
       "      <td>36490</td>\n",
       "      <td>2019-02-28 17:54:26.0100</td>\n",
       "      <td>2019-03-01 04:02:36.8420</td>\n",
       "      <td>375.0</td>\n",
       "      <td>Grove St at Masonic Ave</td>\n",
       "      <td>37.774836</td>\n",
       "      <td>-122.446546</td>\n",
       "      <td>70.0</td>\n",
       "      <td>Central Ave at Fell St</td>\n",
       "      <td>37.773311</td>\n",
       "      <td>-122.444293</td>\n",
       "      <td>6638</td>\n",
       "      <td>Subscriber</td>\n",
       "      <td>1989.0</td>\n",
       "      <td>Other</td>\n",
       "      <td>No</td>\n",
       "    </tr>\n",
       "    <tr>\n",
       "      <th>4</th>\n",
       "      <td>1585</td>\n",
       "      <td>2019-02-28 23:54:18.5490</td>\n",
       "      <td>2019-03-01 00:20:44.0740</td>\n",
       "      <td>7.0</td>\n",
       "      <td>Frank H Ogawa Plaza</td>\n",
       "      <td>37.804562</td>\n",
       "      <td>-122.271738</td>\n",
       "      <td>222.0</td>\n",
       "      <td>10th Ave at E 15th St</td>\n",
       "      <td>37.792714</td>\n",
       "      <td>-122.248780</td>\n",
       "      <td>4898</td>\n",
       "      <td>Subscriber</td>\n",
       "      <td>1974.0</td>\n",
       "      <td>Male</td>\n",
       "      <td>Yes</td>\n",
       "    </tr>\n",
       "  </tbody>\n",
       "</table>\n",
       "</div>"
      ],
      "text/plain": [
       "   duration_sec                start_time                  end_time  \\\n",
       "0         52185  2019-02-28 17:32:10.1450  2019-03-01 08:01:55.9750   \n",
       "1         42521  2019-02-28 18:53:21.7890  2019-03-01 06:42:03.0560   \n",
       "2         61854  2019-02-28 12:13:13.2180  2019-03-01 05:24:08.1460   \n",
       "3         36490  2019-02-28 17:54:26.0100  2019-03-01 04:02:36.8420   \n",
       "4          1585  2019-02-28 23:54:18.5490  2019-03-01 00:20:44.0740   \n",
       "\n",
       "   start_station_id                                start_station_name  \\\n",
       "0              21.0  Montgomery St BART Station (Market St at 2nd St)   \n",
       "1              23.0                     The Embarcadero at Steuart St   \n",
       "2              86.0                           Market St at Dolores St   \n",
       "3             375.0                           Grove St at Masonic Ave   \n",
       "4               7.0                               Frank H Ogawa Plaza   \n",
       "\n",
       "   start_station_latitude  start_station_longitude  end_station_id  \\\n",
       "0               37.789625              -122.400811            13.0   \n",
       "1               37.791464              -122.391034            81.0   \n",
       "2               37.769305              -122.426826             3.0   \n",
       "3               37.774836              -122.446546            70.0   \n",
       "4               37.804562              -122.271738           222.0   \n",
       "\n",
       "                               end_station_name  end_station_latitude  \\\n",
       "0                Commercial St at Montgomery St             37.794231   \n",
       "1                            Berry St at 4th St             37.775880   \n",
       "2  Powell St BART Station (Market St at 4th St)             37.786375   \n",
       "3                        Central Ave at Fell St             37.773311   \n",
       "4                         10th Ave at E 15th St             37.792714   \n",
       "\n",
       "   end_station_longitude  bike_id   user_type  member_birth_year  \\\n",
       "0            -122.402923     4902    Customer             1984.0   \n",
       "1            -122.393170     2535    Customer                NaN   \n",
       "2            -122.404904     5905    Customer             1972.0   \n",
       "3            -122.444293     6638  Subscriber             1989.0   \n",
       "4            -122.248780     4898  Subscriber             1974.0   \n",
       "\n",
       "  member_gender bike_share_for_all_trip  \n",
       "0          Male                      No  \n",
       "1           NaN                      No  \n",
       "2          Male                      No  \n",
       "3         Other                      No  \n",
       "4          Male                     Yes  "
      ]
     },
     "execution_count": 106,
     "metadata": {},
     "output_type": "execute_result"
    }
   ],
   "source": [
    "#Loading dataset\n",
    "gobike = pd.read_csv('201902-fordgobike-tripdata.csv')\n",
    "gobike.head()"
   ]
  },
  {
   "cell_type": "code",
   "execution_count": 107,
   "metadata": {},
   "outputs": [
    {
     "name": "stdout",
     "output_type": "stream",
     "text": [
      "<class 'pandas.core.frame.DataFrame'>\n",
      "RangeIndex: 183412 entries, 0 to 183411\n",
      "Data columns (total 16 columns):\n",
      "duration_sec               183412 non-null int64\n",
      "start_time                 183412 non-null object\n",
      "end_time                   183412 non-null object\n",
      "start_station_id           183215 non-null float64\n",
      "start_station_name         183215 non-null object\n",
      "start_station_latitude     183412 non-null float64\n",
      "start_station_longitude    183412 non-null float64\n",
      "end_station_id             183215 non-null float64\n",
      "end_station_name           183215 non-null object\n",
      "end_station_latitude       183412 non-null float64\n",
      "end_station_longitude      183412 non-null float64\n",
      "bike_id                    183412 non-null int64\n",
      "user_type                  183412 non-null object\n",
      "member_birth_year          175147 non-null float64\n",
      "member_gender              175147 non-null object\n",
      "bike_share_for_all_trip    183412 non-null object\n",
      "dtypes: float64(7), int64(2), object(7)\n",
      "memory usage: 22.4+ MB\n"
     ]
    }
   ],
   "source": [
    "#Getting information about the whole dataseet\n",
    "gobike.info()"
   ]
  },
  {
   "cell_type": "code",
   "execution_count": 108,
   "metadata": {},
   "outputs": [
    {
     "data": {
      "text/plain": [
       "(183412, 16)"
      ]
     },
     "execution_count": 108,
     "metadata": {},
     "output_type": "execute_result"
    }
   ],
   "source": [
    "#checking the total rows and columns\n",
    "gobike.shape"
   ]
  },
  {
   "cell_type": "code",
   "execution_count": 109,
   "metadata": {},
   "outputs": [
    {
     "data": {
      "text/plain": [
       "duration_sec                  0\n",
       "start_time                    0\n",
       "end_time                      0\n",
       "start_station_id            197\n",
       "start_station_name          197\n",
       "start_station_latitude        0\n",
       "start_station_longitude       0\n",
       "end_station_id              197\n",
       "end_station_name            197\n",
       "end_station_latitude          0\n",
       "end_station_longitude         0\n",
       "bike_id                       0\n",
       "user_type                     0\n",
       "member_birth_year          8265\n",
       "member_gender              8265\n",
       "bike_share_for_all_trip       0\n",
       "dtype: int64"
      ]
     },
     "execution_count": 109,
     "metadata": {},
     "output_type": "execute_result"
    }
   ],
   "source": [
    "#checking for empty values\n",
    "gobike.isnull().sum()"
   ]
  },
  {
   "cell_type": "code",
   "execution_count": 110,
   "metadata": {},
   "outputs": [
    {
     "data": {
      "text/plain": [
       "0"
      ]
     },
     "execution_count": 110,
     "metadata": {},
     "output_type": "execute_result"
    }
   ],
   "source": [
    "#checking for duplication in the dataset\n",
    "gobike.duplicated().sum()"
   ]
  },
  {
   "cell_type": "markdown",
   "metadata": {},
   "source": [
    "### What is the structure of your dataset?\n",
    "\n",
    "> There is a total of 183412 records in the dataset with 16 features (duration_sec, end_time, start_station_id start_station_name, start_station_latitude, start_station_longitude, end_station_id, end_station_name, end_station_latitude, end_station_longitude, bike_id, user_type, member_birth_year, member_gender, bike_share_for_all_trip) .The qualitative data include user_type, member_gender, bike_share_for_all_trip. \n",
    "\n",
    "### What is/are the main feature(s) of interest in your dataset?\n",
    "\n",
    "> My main feature of interest is duration of trip i.e time taken for a trip.\n",
    "\n",
    "### What features in the dataset do you think will help support your investigation into your feature(s) of interest?\n",
    "\n",
    "1.  Start time\n",
    "3.  User type\n",
    "4.  Bike share \n",
    "5.  Member gender\n",
    "6.  Member birth year"
   ]
  },
  {
   "cell_type": "markdown",
   "metadata": {},
   "source": [
    "I observed that the data is not clean an tidy so i decided to do some prelimineray wrangling, to clean and tidy the data by correcting datatypes and extracting data from columns for easy visiualization."
   ]
  },
  {
   "cell_type": "code",
   "execution_count": 111,
   "metadata": {},
   "outputs": [
    {
     "name": "stdout",
     "output_type": "stream",
     "text": [
      "object\n",
      "object\n",
      "object\n"
     ]
    }
   ],
   "source": [
    "\n",
    "# Converting start_station_id, end_station_id, and bike_id to  string datatype\n",
    "gobike['start_station_id'] = gobike['start_station_id'].astype('str')\n",
    "gobike['end_station_id'] = gobike['end_station_id'].astype('str')\n",
    "gobike['bike_id'] = gobike['bike_id'].astype('str')\n",
    "\n",
    "#check datatype\n",
    "print(gobike['start_station_id'].dtypes)\n",
    "print(gobike['end_station_id'].dtypes)\n",
    "print(gobike['bike_id'].dtypes)"
   ]
  },
  {
   "cell_type": "code",
   "execution_count": 112,
   "metadata": {},
   "outputs": [
    {
     "name": "stdout",
     "output_type": "stream",
     "text": [
      "category\n",
      "category\n"
     ]
    }
   ],
   "source": [
    "#converting user tyoe and memebr gender to categorical \n",
    "gobike['user_type'] = gobike['user_type'].astype('category')\n",
    "gobike['member_gender'] = gobike['member_gender'].astype('category')\n",
    "\n",
    "#check datatype\n",
    "print(gobike['user_type'].dtypes)\n",
    "print(gobike['member_gender'].dtypes)"
   ]
  },
  {
   "cell_type": "code",
   "execution_count": 113,
   "metadata": {},
   "outputs": [],
   "source": [
    "#Converting bike_share_for_all_trip to boolean datatype\n",
    "gobike.bike_share_for_all_trip = (gobike.bike_share_for_all_trip == 'Yes')\n"
   ]
  },
  {
   "cell_type": "code",
   "execution_count": 114,
   "metadata": {},
   "outputs": [
    {
     "name": "stdout",
     "output_type": "stream",
     "text": [
      "datetime64[ns]\n",
      "datetime64[ns]\n"
     ]
    }
   ],
   "source": [
    "# Convert data types to the right data type\n",
    "# Converting start_time and end_time to datetime datatype\n",
    "gobike['start_time'] = pd.to_datetime(gobike['start_time'])\n",
    "gobike['end_time'] = pd.to_datetime(gobike['end_time'])\n",
    "\n",
    "#check datatype\n",
    "print(gobike['start_time'].dtypes)\n",
    "print(gobike['end_time'].dtypes)"
   ]
  },
  {
   "cell_type": "code",
   "execution_count": 115,
   "metadata": {},
   "outputs": [
    {
     "data": {
      "text/plain": [
       "0         2019-02-28\n",
       "1         2019-02-28\n",
       "2         2019-02-28\n",
       "3         2019-02-28\n",
       "4         2019-02-28\n",
       "5         2019-02-28\n",
       "6         2019-02-28\n",
       "7         2019-02-28\n",
       "8         2019-02-28\n",
       "9         2019-02-28\n",
       "10        2019-02-28\n",
       "11        2019-02-28\n",
       "12        2019-02-28\n",
       "13        2019-02-28\n",
       "14        2019-02-28\n",
       "15        2019-02-28\n",
       "16        2019-02-28\n",
       "17        2019-02-28\n",
       "18        2019-02-28\n",
       "19        2019-02-28\n",
       "20        2019-02-28\n",
       "21        2019-02-28\n",
       "22        2019-02-28\n",
       "23        2019-02-28\n",
       "24        2019-02-28\n",
       "25        2019-02-28\n",
       "26        2019-02-28\n",
       "27        2019-02-28\n",
       "28        2019-02-28\n",
       "29        2019-02-28\n",
       "             ...    \n",
       "183382    2019-02-01\n",
       "183383    2019-02-01\n",
       "183384    2019-02-01\n",
       "183385    2019-02-01\n",
       "183386    2019-02-01\n",
       "183387    2019-02-01\n",
       "183388    2019-02-01\n",
       "183389    2019-02-01\n",
       "183390    2019-02-01\n",
       "183391    2019-02-01\n",
       "183392    2019-02-01\n",
       "183393    2019-02-01\n",
       "183394    2019-02-01\n",
       "183395    2019-02-01\n",
       "183396    2019-02-01\n",
       "183397    2019-02-01\n",
       "183398    2019-02-01\n",
       "183399    2019-02-01\n",
       "183400    2019-02-01\n",
       "183401    2019-02-01\n",
       "183402    2019-02-01\n",
       "183403    2019-02-01\n",
       "183404    2019-02-01\n",
       "183405    2019-02-01\n",
       "183406    2019-02-01\n",
       "183407    2019-02-01\n",
       "183408    2019-02-01\n",
       "183409    2019-02-01\n",
       "183410    2019-02-01\n",
       "183411    2019-02-01\n",
       "Name: start_date, Length: 183412, dtype: object"
      ]
     },
     "execution_count": 115,
     "metadata": {},
     "output_type": "execute_result"
    }
   ],
   "source": [
    "#Extracting the date from start_time variable\n",
    "gobike['start_date'] = gobike['start_time'].dt.strftime('%Y-%m-%d')\n",
    "#checking column\n",
    "gobike['start_date']"
   ]
  },
  {
   "cell_type": "code",
   "execution_count": 116,
   "metadata": {},
   "outputs": [
    {
     "data": {
      "text/plain": [
       "0         February\n",
       "1         February\n",
       "2         February\n",
       "3         February\n",
       "4         February\n",
       "5         February\n",
       "6         February\n",
       "7         February\n",
       "8         February\n",
       "9         February\n",
       "10        February\n",
       "11        February\n",
       "12        February\n",
       "13        February\n",
       "14        February\n",
       "15        February\n",
       "16        February\n",
       "17        February\n",
       "18        February\n",
       "19        February\n",
       "20        February\n",
       "21        February\n",
       "22        February\n",
       "23        February\n",
       "24        February\n",
       "25        February\n",
       "26        February\n",
       "27        February\n",
       "28        February\n",
       "29        February\n",
       "            ...   \n",
       "183382    February\n",
       "183383    February\n",
       "183384    February\n",
       "183385    February\n",
       "183386    February\n",
       "183387    February\n",
       "183388    February\n",
       "183389    February\n",
       "183390    February\n",
       "183391    February\n",
       "183392    February\n",
       "183393    February\n",
       "183394    February\n",
       "183395    February\n",
       "183396    February\n",
       "183397    February\n",
       "183398    February\n",
       "183399    February\n",
       "183400    February\n",
       "183401    February\n",
       "183402    February\n",
       "183403    February\n",
       "183404    February\n",
       "183405    February\n",
       "183406    February\n",
       "183407    February\n",
       "183408    February\n",
       "183409    February\n",
       "183410    February\n",
       "183411    February\n",
       "Name: start_month, Length: 183412, dtype: object"
      ]
     },
     "execution_count": 116,
     "metadata": {},
     "output_type": "execute_result"
    }
   ],
   "source": [
    "#Extracting the month from start_time variable\n",
    "gobike['start_month'] = gobike['start_time'].dt.strftime('%B')\n",
    "#checking column\n",
    "gobike['start_month']"
   ]
  },
  {
   "cell_type": "code",
   "execution_count": 117,
   "metadata": {},
   "outputs": [
    {
     "data": {
      "text/plain": [
       "0         Thursday\n",
       "1         Thursday\n",
       "2         Thursday\n",
       "3         Thursday\n",
       "4         Thursday\n",
       "5         Thursday\n",
       "6         Thursday\n",
       "7         Thursday\n",
       "8         Thursday\n",
       "9         Thursday\n",
       "10        Thursday\n",
       "11        Thursday\n",
       "12        Thursday\n",
       "13        Thursday\n",
       "14        Thursday\n",
       "15        Thursday\n",
       "16        Thursday\n",
       "17        Thursday\n",
       "18        Thursday\n",
       "19        Thursday\n",
       "20        Thursday\n",
       "21        Thursday\n",
       "22        Thursday\n",
       "23        Thursday\n",
       "24        Thursday\n",
       "25        Thursday\n",
       "26        Thursday\n",
       "27        Thursday\n",
       "28        Thursday\n",
       "29        Thursday\n",
       "            ...   \n",
       "183382      Friday\n",
       "183383      Friday\n",
       "183384      Friday\n",
       "183385      Friday\n",
       "183386      Friday\n",
       "183387      Friday\n",
       "183388      Friday\n",
       "183389      Friday\n",
       "183390      Friday\n",
       "183391      Friday\n",
       "183392      Friday\n",
       "183393      Friday\n",
       "183394      Friday\n",
       "183395      Friday\n",
       "183396      Friday\n",
       "183397      Friday\n",
       "183398      Friday\n",
       "183399      Friday\n",
       "183400      Friday\n",
       "183401      Friday\n",
       "183402      Friday\n",
       "183403      Friday\n",
       "183404      Friday\n",
       "183405      Friday\n",
       "183406      Friday\n",
       "183407      Friday\n",
       "183408      Friday\n",
       "183409      Friday\n",
       "183410      Friday\n",
       "183411      Friday\n",
       "Name: start_day_of_week, Length: 183412, dtype: object"
      ]
     },
     "execution_count": 117,
     "metadata": {},
     "output_type": "execute_result"
    }
   ],
   "source": [
    "#Extracting the week day from start_time variable\n",
    "gobike['start_day_of_week'] = gobike['start_time'].dt.strftime('%A')\n",
    "#checking column\n",
    "gobike['start_day_of_week']"
   ]
  },
  {
   "cell_type": "code",
   "execution_count": 118,
   "metadata": {},
   "outputs": [
    {
     "data": {
      "text/plain": [
       "0         17\n",
       "1         18\n",
       "2         12\n",
       "3         17\n",
       "4         23\n",
       "5         23\n",
       "6         23\n",
       "7         23\n",
       "8         23\n",
       "9         23\n",
       "10        23\n",
       "11        23\n",
       "12        23\n",
       "13        23\n",
       "14        23\n",
       "15        23\n",
       "16        23\n",
       "17        23\n",
       "18        23\n",
       "19        23\n",
       "20        23\n",
       "21        23\n",
       "22        23\n",
       "23        23\n",
       "24        23\n",
       "25        23\n",
       "26        23\n",
       "27        23\n",
       "28        23\n",
       "29        23\n",
       "          ..\n",
       "183382    00\n",
       "183383    00\n",
       "183384    00\n",
       "183385    00\n",
       "183386    00\n",
       "183387    00\n",
       "183388    00\n",
       "183389    00\n",
       "183390    00\n",
       "183391    00\n",
       "183392    00\n",
       "183393    00\n",
       "183394    00\n",
       "183395    00\n",
       "183396    00\n",
       "183397    00\n",
       "183398    00\n",
       "183399    00\n",
       "183400    00\n",
       "183401    00\n",
       "183402    00\n",
       "183403    00\n",
       "183404    00\n",
       "183405    00\n",
       "183406    00\n",
       "183407    00\n",
       "183408    00\n",
       "183409    00\n",
       "183410    00\n",
       "183411    00\n",
       "Name: start_hour_of_trip, Length: 183412, dtype: object"
      ]
     },
     "execution_count": 118,
     "metadata": {},
     "output_type": "execute_result"
    }
   ],
   "source": [
    "#Extracting the hour of the day from start_time variable\n",
    "gobike['start_hour_of_trip'] = gobike['start_time'].dt.strftime('%H')\n",
    "#checking column\n",
    "gobike['start_hour_of_trip']"
   ]
  },
  {
   "cell_type": "code",
   "execution_count": 119,
   "metadata": {},
   "outputs": [
    {
     "data": {
      "text/plain": [
       "0         2019-03-01\n",
       "1         2019-03-01\n",
       "2         2019-03-01\n",
       "3         2019-03-01\n",
       "4         2019-03-01\n",
       "5         2019-03-01\n",
       "6         2019-03-01\n",
       "7         2019-03-01\n",
       "8         2019-03-01\n",
       "9         2019-03-01\n",
       "10        2019-03-01\n",
       "11        2019-03-01\n",
       "12        2019-03-01\n",
       "13        2019-03-01\n",
       "14        2019-03-01\n",
       "15        2019-03-01\n",
       "16        2019-02-28\n",
       "17        2019-02-28\n",
       "18        2019-02-28\n",
       "19        2019-02-28\n",
       "20        2019-02-28\n",
       "21        2019-02-28\n",
       "22        2019-02-28\n",
       "23        2019-02-28\n",
       "24        2019-02-28\n",
       "25        2019-02-28\n",
       "26        2019-02-28\n",
       "27        2019-02-28\n",
       "28        2019-02-28\n",
       "29        2019-02-28\n",
       "             ...    \n",
       "183382    2019-02-01\n",
       "183383    2019-02-01\n",
       "183384    2019-02-01\n",
       "183385    2019-02-01\n",
       "183386    2019-02-01\n",
       "183387    2019-02-01\n",
       "183388    2019-02-01\n",
       "183389    2019-02-01\n",
       "183390    2019-02-01\n",
       "183391    2019-02-01\n",
       "183392    2019-02-01\n",
       "183393    2019-02-01\n",
       "183394    2019-02-01\n",
       "183395    2019-02-01\n",
       "183396    2019-02-01\n",
       "183397    2019-02-01\n",
       "183398    2019-02-01\n",
       "183399    2019-02-01\n",
       "183400    2019-02-01\n",
       "183401    2019-02-01\n",
       "183402    2019-02-01\n",
       "183403    2019-02-01\n",
       "183404    2019-02-01\n",
       "183405    2019-02-01\n",
       "183406    2019-02-01\n",
       "183407    2019-02-01\n",
       "183408    2019-02-01\n",
       "183409    2019-02-01\n",
       "183410    2019-02-01\n",
       "183411    2019-02-01\n",
       "Name: end_date, Length: 183412, dtype: object"
      ]
     },
     "execution_count": 119,
     "metadata": {},
     "output_type": "execute_result"
    }
   ],
   "source": [
    "#Extracting the date from end_time variable\n",
    "gobike['end_date'] = gobike['end_time'].dt.strftime('%Y-%m-%d')\n",
    "#checking column\n",
    "gobike['end_date']"
   ]
  },
  {
   "cell_type": "code",
   "execution_count": 120,
   "metadata": {},
   "outputs": [
    {
     "data": {
      "text/plain": [
       "0            March\n",
       "1            March\n",
       "2            March\n",
       "3            March\n",
       "4            March\n",
       "5            March\n",
       "6            March\n",
       "7            March\n",
       "8            March\n",
       "9            March\n",
       "10           March\n",
       "11           March\n",
       "12           March\n",
       "13           March\n",
       "14           March\n",
       "15           March\n",
       "16        February\n",
       "17        February\n",
       "18        February\n",
       "19        February\n",
       "20        February\n",
       "21        February\n",
       "22        February\n",
       "23        February\n",
       "24        February\n",
       "25        February\n",
       "26        February\n",
       "27        February\n",
       "28        February\n",
       "29        February\n",
       "            ...   \n",
       "183382    February\n",
       "183383    February\n",
       "183384    February\n",
       "183385    February\n",
       "183386    February\n",
       "183387    February\n",
       "183388    February\n",
       "183389    February\n",
       "183390    February\n",
       "183391    February\n",
       "183392    February\n",
       "183393    February\n",
       "183394    February\n",
       "183395    February\n",
       "183396    February\n",
       "183397    February\n",
       "183398    February\n",
       "183399    February\n",
       "183400    February\n",
       "183401    February\n",
       "183402    February\n",
       "183403    February\n",
       "183404    February\n",
       "183405    February\n",
       "183406    February\n",
       "183407    February\n",
       "183408    February\n",
       "183409    February\n",
       "183410    February\n",
       "183411    February\n",
       "Name: end_month, Length: 183412, dtype: object"
      ]
     },
     "execution_count": 120,
     "metadata": {},
     "output_type": "execute_result"
    }
   ],
   "source": [
    "#Extracting the month from end_time variable\n",
    "gobike['end_month'] = gobike['end_time'].dt.strftime('%B')\n",
    "#checking column\n",
    "gobike['end_month']"
   ]
  },
  {
   "cell_type": "code",
   "execution_count": 121,
   "metadata": {},
   "outputs": [
    {
     "data": {
      "text/plain": [
       "0           Friday\n",
       "1           Friday\n",
       "2           Friday\n",
       "3           Friday\n",
       "4           Friday\n",
       "5           Friday\n",
       "6           Friday\n",
       "7           Friday\n",
       "8           Friday\n",
       "9           Friday\n",
       "10          Friday\n",
       "11          Friday\n",
       "12          Friday\n",
       "13          Friday\n",
       "14          Friday\n",
       "15          Friday\n",
       "16        Thursday\n",
       "17        Thursday\n",
       "18        Thursday\n",
       "19        Thursday\n",
       "20        Thursday\n",
       "21        Thursday\n",
       "22        Thursday\n",
       "23        Thursday\n",
       "24        Thursday\n",
       "25        Thursday\n",
       "26        Thursday\n",
       "27        Thursday\n",
       "28        Thursday\n",
       "29        Thursday\n",
       "            ...   \n",
       "183382      Friday\n",
       "183383      Friday\n",
       "183384      Friday\n",
       "183385      Friday\n",
       "183386      Friday\n",
       "183387      Friday\n",
       "183388      Friday\n",
       "183389      Friday\n",
       "183390      Friday\n",
       "183391      Friday\n",
       "183392      Friday\n",
       "183393      Friday\n",
       "183394      Friday\n",
       "183395      Friday\n",
       "183396      Friday\n",
       "183397      Friday\n",
       "183398      Friday\n",
       "183399      Friday\n",
       "183400      Friday\n",
       "183401      Friday\n",
       "183402      Friday\n",
       "183403      Friday\n",
       "183404      Friday\n",
       "183405      Friday\n",
       "183406      Friday\n",
       "183407      Friday\n",
       "183408      Friday\n",
       "183409      Friday\n",
       "183410      Friday\n",
       "183411      Friday\n",
       "Name: end_day_of_week, Length: 183412, dtype: object"
      ]
     },
     "execution_count": 121,
     "metadata": {},
     "output_type": "execute_result"
    }
   ],
   "source": [
    "#Extracting the weekday from end_time variable\n",
    "gobike['end_day_of_week'] = gobike['end_time'].dt.strftime('%A')\n",
    "#checking column\n",
    "gobike['end_day_of_week']"
   ]
  },
  {
   "cell_type": "code",
   "execution_count": 122,
   "metadata": {},
   "outputs": [
    {
     "data": {
      "text/plain": [
       "0         08\n",
       "1         06\n",
       "2         05\n",
       "3         04\n",
       "4         00\n",
       "5         00\n",
       "6         00\n",
       "7         00\n",
       "8         00\n",
       "9         00\n",
       "10        00\n",
       "11        00\n",
       "12        00\n",
       "13        00\n",
       "14        00\n",
       "15        00\n",
       "16        23\n",
       "17        23\n",
       "18        23\n",
       "19        23\n",
       "20        23\n",
       "21        23\n",
       "22        23\n",
       "23        23\n",
       "24        23\n",
       "25        23\n",
       "26        23\n",
       "27        23\n",
       "28        23\n",
       "29        23\n",
       "          ..\n",
       "183382    00\n",
       "183383    00\n",
       "183384    00\n",
       "183385    00\n",
       "183386    00\n",
       "183387    00\n",
       "183388    00\n",
       "183389    00\n",
       "183390    00\n",
       "183391    00\n",
       "183392    00\n",
       "183393    00\n",
       "183394    00\n",
       "183395    00\n",
       "183396    00\n",
       "183397    00\n",
       "183398    00\n",
       "183399    00\n",
       "183400    00\n",
       "183401    00\n",
       "183402    00\n",
       "183403    00\n",
       "183404    00\n",
       "183405    00\n",
       "183406    00\n",
       "183407    00\n",
       "183408    00\n",
       "183409    00\n",
       "183410    00\n",
       "183411    00\n",
       "Name: end_hour_of_trip, Length: 183412, dtype: object"
      ]
     },
     "execution_count": 122,
     "metadata": {},
     "output_type": "execute_result"
    }
   ],
   "source": [
    "#Extracting the end hour from end_time variable\n",
    "gobike['end_hour_of_trip'] = gobike['end_time'].dt.strftime('%H')\n",
    "#checking column\n",
    "gobike['end_hour_of_trip']"
   ]
  },
  {
   "cell_type": "code",
   "execution_count": 123,
   "metadata": {},
   "outputs": [
    {
     "data": {
      "text/plain": [
       "0         35.0\n",
       "1          NaN\n",
       "2         47.0\n",
       "3         30.0\n",
       "4         45.0\n",
       "5         60.0\n",
       "6         36.0\n",
       "7         30.0\n",
       "8         31.0\n",
       "9         27.0\n",
       "10        23.0\n",
       "11        26.0\n",
       "12        29.0\n",
       "13         NaN\n",
       "14        31.0\n",
       "15        26.0\n",
       "16        38.0\n",
       "17        44.0\n",
       "18        29.0\n",
       "19        41.0\n",
       "20        36.0\n",
       "21        35.0\n",
       "22        28.0\n",
       "23        22.0\n",
       "24        44.0\n",
       "25        33.0\n",
       "26        19.0\n",
       "27        37.0\n",
       "28         NaN\n",
       "29        24.0\n",
       "          ... \n",
       "183382    31.0\n",
       "183383    22.0\n",
       "183384    28.0\n",
       "183385    74.0\n",
       "183386    21.0\n",
       "183387    20.0\n",
       "183388    92.0\n",
       "183389    34.0\n",
       "183390    20.0\n",
       "183391    39.0\n",
       "183392    26.0\n",
       "183393    34.0\n",
       "183394    44.0\n",
       "183395    26.0\n",
       "183396    28.0\n",
       "183397    31.0\n",
       "183398    37.0\n",
       "183399    26.0\n",
       "183400    35.0\n",
       "183401    28.0\n",
       "183402     NaN\n",
       "183403    19.0\n",
       "183404    39.0\n",
       "183405    35.0\n",
       "183406    31.0\n",
       "183407    23.0\n",
       "183408    35.0\n",
       "183409    29.0\n",
       "183410    31.0\n",
       "183411    30.0\n",
       "Name: member_age, Length: 183412, dtype: float64"
      ]
     },
     "execution_count": 123,
     "metadata": {},
     "output_type": "execute_result"
    }
   ],
   "source": [
    "#Creating a feature for members age as at 2019  from memeber birth year\n",
    "gobike['member_age'] = 2019 - gobike['member_birth_year']\n",
    "#checking column\n",
    "gobike['member_age']"
   ]
  },
  {
   "cell_type": "code",
   "execution_count": 124,
   "metadata": {},
   "outputs": [
    {
     "data": {
      "text/plain": [
       "0          869.750000\n",
       "1          708.683333\n",
       "2         1030.900000\n",
       "3          608.166667\n",
       "4           26.416667\n",
       "5           29.883333\n",
       "6           19.116667\n",
       "7           26.916667\n",
       "8           26.166667\n",
       "9           17.483333\n",
       "10           7.633333\n",
       "11           8.433333\n",
       "12          19.600000\n",
       "13          15.250000\n",
       "14           6.583333\n",
       "15           3.466667\n",
       "16           9.133333\n",
       "17          11.233333\n",
       "18           9.283333\n",
       "19          14.566667\n",
       "20           6.950000\n",
       "21           6.900000\n",
       "22          12.383333\n",
       "23           6.116667\n",
       "24           4.200000\n",
       "25           6.000000\n",
       "26           6.416667\n",
       "27           6.800000\n",
       "28          10.833333\n",
       "29          10.483333\n",
       "             ...     \n",
       "183382      16.016667\n",
       "183383       7.233333\n",
       "183384       3.066667\n",
       "183385       6.666667\n",
       "183386       7.083333\n",
       "183387       9.966667\n",
       "183388       8.166667\n",
       "183389       3.066667\n",
       "183390       3.866667\n",
       "183391       4.483333\n",
       "183392      21.483333\n",
       "183393       2.583333\n",
       "183394      12.000000\n",
       "183395       1.583333\n",
       "183396       9.600000\n",
       "183397       7.300000\n",
       "183398      16.983333\n",
       "183399      15.966667\n",
       "183400       4.166667\n",
       "183401       6.383333\n",
       "183402       2.033333\n",
       "183403       4.150000\n",
       "183404       4.266667\n",
       "183405       1.850000\n",
       "183406      11.766667\n",
       "183407       8.000000\n",
       "183408       5.216667\n",
       "183409       2.350000\n",
       "183410       2.316667\n",
       "183411       4.516667\n",
       "Name: duration_min, Length: 183412, dtype: float64"
      ]
     },
     "execution_count": 124,
     "metadata": {},
     "output_type": "execute_result"
    }
   ],
   "source": [
    "#converting the duration from sec to min and creating a feature\n",
    "gobike['duration_min'] = gobike['duration_sec']/60\n",
    "#checking column\n",
    "gobike['duration_min']"
   ]
  },
  {
   "cell_type": "code",
   "execution_count": 125,
   "metadata": {},
   "outputs": [
    {
     "name": "stdout",
     "output_type": "stream",
     "text": [
      "<class 'pandas.core.frame.DataFrame'>\n",
      "RangeIndex: 183412 entries, 0 to 183411\n",
      "Data columns (total 26 columns):\n",
      "duration_sec               183412 non-null int64\n",
      "start_time                 183412 non-null datetime64[ns]\n",
      "end_time                   183412 non-null datetime64[ns]\n",
      "start_station_id           183412 non-null object\n",
      "start_station_name         183215 non-null object\n",
      "start_station_latitude     183412 non-null float64\n",
      "start_station_longitude    183412 non-null float64\n",
      "end_station_id             183412 non-null object\n",
      "end_station_name           183215 non-null object\n",
      "end_station_latitude       183412 non-null float64\n",
      "end_station_longitude      183412 non-null float64\n",
      "bike_id                    183412 non-null object\n",
      "user_type                  183412 non-null category\n",
      "member_birth_year          175147 non-null float64\n",
      "member_gender              175147 non-null category\n",
      "bike_share_for_all_trip    183412 non-null bool\n",
      "start_date                 183412 non-null object\n",
      "start_month                183412 non-null object\n",
      "start_day_of_week          183412 non-null object\n",
      "start_hour_of_trip         183412 non-null object\n",
      "end_date                   183412 non-null object\n",
      "end_month                  183412 non-null object\n",
      "end_day_of_week            183412 non-null object\n",
      "end_hour_of_trip           183412 non-null object\n",
      "member_age                 175147 non-null float64\n",
      "duration_min               183412 non-null float64\n",
      "dtypes: bool(1), category(2), datetime64[ns](2), float64(7), int64(1), object(13)\n",
      "memory usage: 32.7+ MB\n"
     ]
    }
   ],
   "source": [
    "#Checking if the channges and columns created has been saved\n",
    "gobike.info()"
   ]
  },
  {
   "cell_type": "code",
   "execution_count": 126,
   "metadata": {},
   "outputs": [
    {
     "data": {
      "text/plain": [
       "Male      130651\n",
       "Female     40844\n",
       "Other       3652\n",
       "Name: member_gender, dtype: int64"
      ]
     },
     "execution_count": 126,
     "metadata": {},
     "output_type": "execute_result"
    }
   ],
   "source": [
    "#counting the member genders values\n",
    "gobike['member_gender'].value_counts()"
   ]
  },
  {
   "cell_type": "code",
   "execution_count": 127,
   "metadata": {},
   "outputs": [],
   "source": [
    "# Dropping missing records \n",
    "\n",
    "gobike.dropna(inplace=True)"
   ]
  },
  {
   "cell_type": "code",
   "execution_count": 128,
   "metadata": {},
   "outputs": [
    {
     "data": {
      "text/plain": [
       "duration_sec               0\n",
       "start_time                 0\n",
       "end_time                   0\n",
       "start_station_id           0\n",
       "start_station_name         0\n",
       "start_station_latitude     0\n",
       "start_station_longitude    0\n",
       "end_station_id             0\n",
       "end_station_name           0\n",
       "end_station_latitude       0\n",
       "end_station_longitude      0\n",
       "bike_id                    0\n",
       "user_type                  0\n",
       "member_birth_year          0\n",
       "member_gender              0\n",
       "bike_share_for_all_trip    0\n",
       "start_date                 0\n",
       "start_month                0\n",
       "start_day_of_week          0\n",
       "start_hour_of_trip         0\n",
       "end_date                   0\n",
       "end_month                  0\n",
       "end_day_of_week            0\n",
       "end_hour_of_trip           0\n",
       "member_age                 0\n",
       "duration_min               0\n",
       "dtype: int64"
      ]
     },
     "execution_count": 128,
     "metadata": {},
     "output_type": "execute_result"
    }
   ],
   "source": [
    "#checking if we still have missing values\n",
    "gobike.isnull().sum()"
   ]
  },
  {
   "cell_type": "code",
   "execution_count": 129,
   "metadata": {},
   "outputs": [
    {
     "data": {
      "text/plain": [
       "(174952, 26)"
      ]
     },
     "execution_count": 129,
     "metadata": {},
     "output_type": "execute_result"
    }
   ],
   "source": [
    "#checking the new number of columns and records in the data \n",
    "gobike.shape"
   ]
  },
  {
   "cell_type": "code",
   "execution_count": 130,
   "metadata": {},
   "outputs": [
    {
     "data": {
      "text/html": [
       "<div>\n",
       "<style scoped>\n",
       "    .dataframe tbody tr th:only-of-type {\n",
       "        vertical-align: middle;\n",
       "    }\n",
       "\n",
       "    .dataframe tbody tr th {\n",
       "        vertical-align: top;\n",
       "    }\n",
       "\n",
       "    .dataframe thead th {\n",
       "        text-align: right;\n",
       "    }\n",
       "</style>\n",
       "<table border=\"1\" class=\"dataframe\">\n",
       "  <thead>\n",
       "    <tr style=\"text-align: right;\">\n",
       "      <th></th>\n",
       "      <th>duration_sec</th>\n",
       "      <th>start_time</th>\n",
       "      <th>end_time</th>\n",
       "      <th>start_station_id</th>\n",
       "      <th>start_station_name</th>\n",
       "      <th>start_station_latitude</th>\n",
       "      <th>start_station_longitude</th>\n",
       "      <th>end_station_id</th>\n",
       "      <th>end_station_name</th>\n",
       "      <th>end_station_latitude</th>\n",
       "      <th>...</th>\n",
       "      <th>start_date</th>\n",
       "      <th>start_month</th>\n",
       "      <th>start_day_of_week</th>\n",
       "      <th>start_hour_of_trip</th>\n",
       "      <th>end_date</th>\n",
       "      <th>end_month</th>\n",
       "      <th>end_day_of_week</th>\n",
       "      <th>end_hour_of_trip</th>\n",
       "      <th>member_age</th>\n",
       "      <th>duration_min</th>\n",
       "    </tr>\n",
       "  </thead>\n",
       "  <tbody>\n",
       "    <tr>\n",
       "      <th>74535</th>\n",
       "      <td>295</td>\n",
       "      <td>2019-02-19 10:13:14.836</td>\n",
       "      <td>2019-02-19 10:18:10.707</td>\n",
       "      <td>304.0</td>\n",
       "      <td>Jackson St at 5th St</td>\n",
       "      <td>37.348759</td>\n",
       "      <td>-121.894798</td>\n",
       "      <td>280.0</td>\n",
       "      <td>San Fernando St at 7th St</td>\n",
       "      <td>37.337122</td>\n",
       "      <td>...</td>\n",
       "      <td>2019-02-19</td>\n",
       "      <td>February</td>\n",
       "      <td>Tuesday</td>\n",
       "      <td>10</td>\n",
       "      <td>2019-02-19</td>\n",
       "      <td>February</td>\n",
       "      <td>Tuesday</td>\n",
       "      <td>10</td>\n",
       "      <td>27.0</td>\n",
       "      <td>4.916667</td>\n",
       "    </tr>\n",
       "    <tr>\n",
       "      <th>83514</th>\n",
       "      <td>770</td>\n",
       "      <td>2019-02-17 22:44:29.010</td>\n",
       "      <td>2019-02-17 22:57:19.250</td>\n",
       "      <td>92.0</td>\n",
       "      <td>Mission Bay Kids Park</td>\n",
       "      <td>37.772301</td>\n",
       "      <td>-122.393028</td>\n",
       "      <td>34.0</td>\n",
       "      <td>Father Alfred E Boeddeker Park</td>\n",
       "      <td>37.783988</td>\n",
       "      <td>...</td>\n",
       "      <td>2019-02-17</td>\n",
       "      <td>February</td>\n",
       "      <td>Sunday</td>\n",
       "      <td>22</td>\n",
       "      <td>2019-02-17</td>\n",
       "      <td>February</td>\n",
       "      <td>Sunday</td>\n",
       "      <td>22</td>\n",
       "      <td>48.0</td>\n",
       "      <td>12.833333</td>\n",
       "    </tr>\n",
       "    <tr>\n",
       "      <th>142769</th>\n",
       "      <td>66</td>\n",
       "      <td>2019-02-07 16:52:21.006</td>\n",
       "      <td>2019-02-07 16:53:27.486</td>\n",
       "      <td>158.0</td>\n",
       "      <td>Shattuck Ave at Telegraph Ave</td>\n",
       "      <td>37.833279</td>\n",
       "      <td>-122.263490</td>\n",
       "      <td>209.0</td>\n",
       "      <td>45th St at MLK Jr Way</td>\n",
       "      <td>37.833558</td>\n",
       "      <td>...</td>\n",
       "      <td>2019-02-07</td>\n",
       "      <td>February</td>\n",
       "      <td>Thursday</td>\n",
       "      <td>16</td>\n",
       "      <td>2019-02-07</td>\n",
       "      <td>February</td>\n",
       "      <td>Thursday</td>\n",
       "      <td>16</td>\n",
       "      <td>37.0</td>\n",
       "      <td>1.100000</td>\n",
       "    </tr>\n",
       "    <tr>\n",
       "      <th>137656</th>\n",
       "      <td>255</td>\n",
       "      <td>2019-02-08 08:32:20.488</td>\n",
       "      <td>2019-02-08 08:36:36.129</td>\n",
       "      <td>59.0</td>\n",
       "      <td>S Van Ness Ave at Market St</td>\n",
       "      <td>37.774814</td>\n",
       "      <td>-122.418954</td>\n",
       "      <td>77.0</td>\n",
       "      <td>11th St at Natoma St</td>\n",
       "      <td>37.773507</td>\n",
       "      <td>...</td>\n",
       "      <td>2019-02-08</td>\n",
       "      <td>February</td>\n",
       "      <td>Friday</td>\n",
       "      <td>08</td>\n",
       "      <td>2019-02-08</td>\n",
       "      <td>February</td>\n",
       "      <td>Friday</td>\n",
       "      <td>08</td>\n",
       "      <td>25.0</td>\n",
       "      <td>4.250000</td>\n",
       "    </tr>\n",
       "    <tr>\n",
       "      <th>97887</th>\n",
       "      <td>865</td>\n",
       "      <td>2019-02-15 08:23:18.314</td>\n",
       "      <td>2019-02-15 08:37:43.911</td>\n",
       "      <td>119.0</td>\n",
       "      <td>18th St at Noe St</td>\n",
       "      <td>37.761047</td>\n",
       "      <td>-122.432642</td>\n",
       "      <td>90.0</td>\n",
       "      <td>Townsend St at 7th St</td>\n",
       "      <td>37.771058</td>\n",
       "      <td>...</td>\n",
       "      <td>2019-02-15</td>\n",
       "      <td>February</td>\n",
       "      <td>Friday</td>\n",
       "      <td>08</td>\n",
       "      <td>2019-02-15</td>\n",
       "      <td>February</td>\n",
       "      <td>Friday</td>\n",
       "      <td>08</td>\n",
       "      <td>28.0</td>\n",
       "      <td>14.416667</td>\n",
       "    </tr>\n",
       "    <tr>\n",
       "      <th>163092</th>\n",
       "      <td>435</td>\n",
       "      <td>2019-02-05 09:40:11.894</td>\n",
       "      <td>2019-02-05 09:47:27.099</td>\n",
       "      <td>80.0</td>\n",
       "      <td>Townsend St at 5th St</td>\n",
       "      <td>37.775235</td>\n",
       "      <td>-122.397437</td>\n",
       "      <td>3.0</td>\n",
       "      <td>Powell St BART Station (Market St at 4th St)</td>\n",
       "      <td>37.786375</td>\n",
       "      <td>...</td>\n",
       "      <td>2019-02-05</td>\n",
       "      <td>February</td>\n",
       "      <td>Tuesday</td>\n",
       "      <td>09</td>\n",
       "      <td>2019-02-05</td>\n",
       "      <td>February</td>\n",
       "      <td>Tuesday</td>\n",
       "      <td>09</td>\n",
       "      <td>52.0</td>\n",
       "      <td>7.250000</td>\n",
       "    </tr>\n",
       "    <tr>\n",
       "      <th>38206</th>\n",
       "      <td>252</td>\n",
       "      <td>2019-02-23 12:32:22.610</td>\n",
       "      <td>2019-02-23 12:36:35.151</td>\n",
       "      <td>17.0</td>\n",
       "      <td>Embarcadero BART Station (Beale St at Market St)</td>\n",
       "      <td>37.792251</td>\n",
       "      <td>-122.397086</td>\n",
       "      <td>25.0</td>\n",
       "      <td>Howard St at 2nd St</td>\n",
       "      <td>37.787522</td>\n",
       "      <td>...</td>\n",
       "      <td>2019-02-23</td>\n",
       "      <td>February</td>\n",
       "      <td>Saturday</td>\n",
       "      <td>12</td>\n",
       "      <td>2019-02-23</td>\n",
       "      <td>February</td>\n",
       "      <td>Saturday</td>\n",
       "      <td>12</td>\n",
       "      <td>28.0</td>\n",
       "      <td>4.200000</td>\n",
       "    </tr>\n",
       "    <tr>\n",
       "      <th>32375</th>\n",
       "      <td>668</td>\n",
       "      <td>2019-02-24 14:31:10.994</td>\n",
       "      <td>2019-02-24 14:42:19.146</td>\n",
       "      <td>368.0</td>\n",
       "      <td>Myrtle St at Polk St</td>\n",
       "      <td>37.785434</td>\n",
       "      <td>-122.419622</td>\n",
       "      <td>56.0</td>\n",
       "      <td>Koshland Park</td>\n",
       "      <td>37.773414</td>\n",
       "      <td>...</td>\n",
       "      <td>2019-02-24</td>\n",
       "      <td>February</td>\n",
       "      <td>Sunday</td>\n",
       "      <td>14</td>\n",
       "      <td>2019-02-24</td>\n",
       "      <td>February</td>\n",
       "      <td>Sunday</td>\n",
       "      <td>14</td>\n",
       "      <td>35.0</td>\n",
       "      <td>11.133333</td>\n",
       "    </tr>\n",
       "    <tr>\n",
       "      <th>15679</th>\n",
       "      <td>798</td>\n",
       "      <td>2019-02-27 09:06:14.514</td>\n",
       "      <td>2019-02-27 09:19:32.708</td>\n",
       "      <td>118.0</td>\n",
       "      <td>Eureka Valley Recreation Center</td>\n",
       "      <td>37.759177</td>\n",
       "      <td>-122.436943</td>\n",
       "      <td>88.0</td>\n",
       "      <td>11th St at Bryant St</td>\n",
       "      <td>37.770030</td>\n",
       "      <td>...</td>\n",
       "      <td>2019-02-27</td>\n",
       "      <td>February</td>\n",
       "      <td>Wednesday</td>\n",
       "      <td>09</td>\n",
       "      <td>2019-02-27</td>\n",
       "      <td>February</td>\n",
       "      <td>Wednesday</td>\n",
       "      <td>09</td>\n",
       "      <td>31.0</td>\n",
       "      <td>13.300000</td>\n",
       "    </tr>\n",
       "    <tr>\n",
       "      <th>98188</th>\n",
       "      <td>416</td>\n",
       "      <td>2019-02-15 08:09:27.676</td>\n",
       "      <td>2019-02-15 08:16:24.000</td>\n",
       "      <td>241.0</td>\n",
       "      <td>Ashby BART Station</td>\n",
       "      <td>37.852477</td>\n",
       "      <td>-122.270213</td>\n",
       "      <td>270.0</td>\n",
       "      <td>Ninth St at Heinz Ave</td>\n",
       "      <td>37.853489</td>\n",
       "      <td>...</td>\n",
       "      <td>2019-02-15</td>\n",
       "      <td>February</td>\n",
       "      <td>Friday</td>\n",
       "      <td>08</td>\n",
       "      <td>2019-02-15</td>\n",
       "      <td>February</td>\n",
       "      <td>Friday</td>\n",
       "      <td>08</td>\n",
       "      <td>32.0</td>\n",
       "      <td>6.933333</td>\n",
       "    </tr>\n",
       "    <tr>\n",
       "      <th>143611</th>\n",
       "      <td>483</td>\n",
       "      <td>2019-02-07 14:51:12.825</td>\n",
       "      <td>2019-02-07 14:59:16.159</td>\n",
       "      <td>364.0</td>\n",
       "      <td>China Basin St at 3rd St</td>\n",
       "      <td>37.772000</td>\n",
       "      <td>-122.389970</td>\n",
       "      <td>350.0</td>\n",
       "      <td>8th St at Brannan St</td>\n",
       "      <td>37.771431</td>\n",
       "      <td>...</td>\n",
       "      <td>2019-02-07</td>\n",
       "      <td>February</td>\n",
       "      <td>Thursday</td>\n",
       "      <td>14</td>\n",
       "      <td>2019-02-07</td>\n",
       "      <td>February</td>\n",
       "      <td>Thursday</td>\n",
       "      <td>14</td>\n",
       "      <td>27.0</td>\n",
       "      <td>8.050000</td>\n",
       "    </tr>\n",
       "    <tr>\n",
       "      <th>120563</th>\n",
       "      <td>1351</td>\n",
       "      <td>2019-02-11 16:41:09.617</td>\n",
       "      <td>2019-02-11 17:03:41.431</td>\n",
       "      <td>20.0</td>\n",
       "      <td>Mechanics Monument Plaza (Market St at Bush St)</td>\n",
       "      <td>37.791300</td>\n",
       "      <td>-122.399051</td>\n",
       "      <td>126.0</td>\n",
       "      <td>Esprit Park</td>\n",
       "      <td>37.761634</td>\n",
       "      <td>...</td>\n",
       "      <td>2019-02-11</td>\n",
       "      <td>February</td>\n",
       "      <td>Monday</td>\n",
       "      <td>16</td>\n",
       "      <td>2019-02-11</td>\n",
       "      <td>February</td>\n",
       "      <td>Monday</td>\n",
       "      <td>17</td>\n",
       "      <td>47.0</td>\n",
       "      <td>22.516667</td>\n",
       "    </tr>\n",
       "    <tr>\n",
       "      <th>65454</th>\n",
       "      <td>287</td>\n",
       "      <td>2019-02-20 09:39:46.741</td>\n",
       "      <td>2019-02-20 09:44:34.283</td>\n",
       "      <td>141.0</td>\n",
       "      <td>Valencia St at Cesar Chavez St</td>\n",
       "      <td>37.747998</td>\n",
       "      <td>-122.420219</td>\n",
       "      <td>127.0</td>\n",
       "      <td>Valencia St at 21st St</td>\n",
       "      <td>37.756708</td>\n",
       "      <td>...</td>\n",
       "      <td>2019-02-20</td>\n",
       "      <td>February</td>\n",
       "      <td>Wednesday</td>\n",
       "      <td>09</td>\n",
       "      <td>2019-02-20</td>\n",
       "      <td>February</td>\n",
       "      <td>Wednesday</td>\n",
       "      <td>09</td>\n",
       "      <td>37.0</td>\n",
       "      <td>4.783333</td>\n",
       "    </tr>\n",
       "    <tr>\n",
       "      <th>160034</th>\n",
       "      <td>806</td>\n",
       "      <td>2019-02-05 17:21:07.036</td>\n",
       "      <td>2019-02-05 17:34:33.657</td>\n",
       "      <td>227.0</td>\n",
       "      <td>Foothill Blvd at Fruitvale Ave</td>\n",
       "      <td>37.783757</td>\n",
       "      <td>-122.222603</td>\n",
       "      <td>200.0</td>\n",
       "      <td>2nd Ave at E 18th St</td>\n",
       "      <td>37.800214</td>\n",
       "      <td>...</td>\n",
       "      <td>2019-02-05</td>\n",
       "      <td>February</td>\n",
       "      <td>Tuesday</td>\n",
       "      <td>17</td>\n",
       "      <td>2019-02-05</td>\n",
       "      <td>February</td>\n",
       "      <td>Tuesday</td>\n",
       "      <td>17</td>\n",
       "      <td>30.0</td>\n",
       "      <td>13.433333</td>\n",
       "    </tr>\n",
       "    <tr>\n",
       "      <th>1605</th>\n",
       "      <td>683</td>\n",
       "      <td>2019-02-28 18:50:33.551</td>\n",
       "      <td>2019-02-28 19:01:56.660</td>\n",
       "      <td>81.0</td>\n",
       "      <td>Berry St at 4th St</td>\n",
       "      <td>37.775880</td>\n",
       "      <td>-122.393170</td>\n",
       "      <td>16.0</td>\n",
       "      <td>Steuart St at Market St</td>\n",
       "      <td>37.794130</td>\n",
       "      <td>...</td>\n",
       "      <td>2019-02-28</td>\n",
       "      <td>February</td>\n",
       "      <td>Thursday</td>\n",
       "      <td>18</td>\n",
       "      <td>2019-02-28</td>\n",
       "      <td>February</td>\n",
       "      <td>Thursday</td>\n",
       "      <td>19</td>\n",
       "      <td>33.0</td>\n",
       "      <td>11.383333</td>\n",
       "    </tr>\n",
       "  </tbody>\n",
       "</table>\n",
       "<p>15 rows × 26 columns</p>\n",
       "</div>"
      ],
      "text/plain": [
       "        duration_sec              start_time                end_time  \\\n",
       "74535            295 2019-02-19 10:13:14.836 2019-02-19 10:18:10.707   \n",
       "83514            770 2019-02-17 22:44:29.010 2019-02-17 22:57:19.250   \n",
       "142769            66 2019-02-07 16:52:21.006 2019-02-07 16:53:27.486   \n",
       "137656           255 2019-02-08 08:32:20.488 2019-02-08 08:36:36.129   \n",
       "97887            865 2019-02-15 08:23:18.314 2019-02-15 08:37:43.911   \n",
       "163092           435 2019-02-05 09:40:11.894 2019-02-05 09:47:27.099   \n",
       "38206            252 2019-02-23 12:32:22.610 2019-02-23 12:36:35.151   \n",
       "32375            668 2019-02-24 14:31:10.994 2019-02-24 14:42:19.146   \n",
       "15679            798 2019-02-27 09:06:14.514 2019-02-27 09:19:32.708   \n",
       "98188            416 2019-02-15 08:09:27.676 2019-02-15 08:16:24.000   \n",
       "143611           483 2019-02-07 14:51:12.825 2019-02-07 14:59:16.159   \n",
       "120563          1351 2019-02-11 16:41:09.617 2019-02-11 17:03:41.431   \n",
       "65454            287 2019-02-20 09:39:46.741 2019-02-20 09:44:34.283   \n",
       "160034           806 2019-02-05 17:21:07.036 2019-02-05 17:34:33.657   \n",
       "1605             683 2019-02-28 18:50:33.551 2019-02-28 19:01:56.660   \n",
       "\n",
       "       start_station_id                                start_station_name  \\\n",
       "74535             304.0                              Jackson St at 5th St   \n",
       "83514              92.0                             Mission Bay Kids Park   \n",
       "142769            158.0                     Shattuck Ave at Telegraph Ave   \n",
       "137656             59.0                       S Van Ness Ave at Market St   \n",
       "97887             119.0                                 18th St at Noe St   \n",
       "163092             80.0                             Townsend St at 5th St   \n",
       "38206              17.0  Embarcadero BART Station (Beale St at Market St)   \n",
       "32375             368.0                              Myrtle St at Polk St   \n",
       "15679             118.0                   Eureka Valley Recreation Center   \n",
       "98188             241.0                                Ashby BART Station   \n",
       "143611            364.0                          China Basin St at 3rd St   \n",
       "120563             20.0   Mechanics Monument Plaza (Market St at Bush St)   \n",
       "65454             141.0                    Valencia St at Cesar Chavez St   \n",
       "160034            227.0                    Foothill Blvd at Fruitvale Ave   \n",
       "1605               81.0                                Berry St at 4th St   \n",
       "\n",
       "        start_station_latitude  start_station_longitude end_station_id  \\\n",
       "74535                37.348759              -121.894798          280.0   \n",
       "83514                37.772301              -122.393028           34.0   \n",
       "142769               37.833279              -122.263490          209.0   \n",
       "137656               37.774814              -122.418954           77.0   \n",
       "97887                37.761047              -122.432642           90.0   \n",
       "163092               37.775235              -122.397437            3.0   \n",
       "38206                37.792251              -122.397086           25.0   \n",
       "32375                37.785434              -122.419622           56.0   \n",
       "15679                37.759177              -122.436943           88.0   \n",
       "98188                37.852477              -122.270213          270.0   \n",
       "143611               37.772000              -122.389970          350.0   \n",
       "120563               37.791300              -122.399051          126.0   \n",
       "65454                37.747998              -122.420219          127.0   \n",
       "160034               37.783757              -122.222603          200.0   \n",
       "1605                 37.775880              -122.393170           16.0   \n",
       "\n",
       "                                    end_station_name  end_station_latitude  \\\n",
       "74535                      San Fernando St at 7th St             37.337122   \n",
       "83514                 Father Alfred E Boeddeker Park             37.783988   \n",
       "142769                         45th St at MLK Jr Way             37.833558   \n",
       "137656                          11th St at Natoma St             37.773507   \n",
       "97887                          Townsend St at 7th St             37.771058   \n",
       "163092  Powell St BART Station (Market St at 4th St)             37.786375   \n",
       "38206                            Howard St at 2nd St             37.787522   \n",
       "32375                                  Koshland Park             37.773414   \n",
       "15679                           11th St at Bryant St             37.770030   \n",
       "98188                          Ninth St at Heinz Ave             37.853489   \n",
       "143611                          8th St at Brannan St             37.771431   \n",
       "120563                                   Esprit Park             37.761634   \n",
       "65454                         Valencia St at 21st St             37.756708   \n",
       "160034                          2nd Ave at E 18th St             37.800214   \n",
       "1605                         Steuart St at Market St             37.794130   \n",
       "\n",
       "           ...       start_date start_month start_day_of_week  \\\n",
       "74535      ...       2019-02-19    February           Tuesday   \n",
       "83514      ...       2019-02-17    February            Sunday   \n",
       "142769     ...       2019-02-07    February          Thursday   \n",
       "137656     ...       2019-02-08    February            Friday   \n",
       "97887      ...       2019-02-15    February            Friday   \n",
       "163092     ...       2019-02-05    February           Tuesday   \n",
       "38206      ...       2019-02-23    February          Saturday   \n",
       "32375      ...       2019-02-24    February            Sunday   \n",
       "15679      ...       2019-02-27    February         Wednesday   \n",
       "98188      ...       2019-02-15    February            Friday   \n",
       "143611     ...       2019-02-07    February          Thursday   \n",
       "120563     ...       2019-02-11    February            Monday   \n",
       "65454      ...       2019-02-20    February         Wednesday   \n",
       "160034     ...       2019-02-05    February           Tuesday   \n",
       "1605       ...       2019-02-28    February          Thursday   \n",
       "\n",
       "        start_hour_of_trip    end_date  end_month end_day_of_week  \\\n",
       "74535                   10  2019-02-19   February         Tuesday   \n",
       "83514                   22  2019-02-17   February          Sunday   \n",
       "142769                  16  2019-02-07   February        Thursday   \n",
       "137656                  08  2019-02-08   February          Friday   \n",
       "97887                   08  2019-02-15   February          Friday   \n",
       "163092                  09  2019-02-05   February         Tuesday   \n",
       "38206                   12  2019-02-23   February        Saturday   \n",
       "32375                   14  2019-02-24   February          Sunday   \n",
       "15679                   09  2019-02-27   February       Wednesday   \n",
       "98188                   08  2019-02-15   February          Friday   \n",
       "143611                  14  2019-02-07   February        Thursday   \n",
       "120563                  16  2019-02-11   February          Monday   \n",
       "65454                   09  2019-02-20   February       Wednesday   \n",
       "160034                  17  2019-02-05   February         Tuesday   \n",
       "1605                    18  2019-02-28   February        Thursday   \n",
       "\n",
       "       end_hour_of_trip member_age duration_min  \n",
       "74535                10       27.0     4.916667  \n",
       "83514                22       48.0    12.833333  \n",
       "142769               16       37.0     1.100000  \n",
       "137656               08       25.0     4.250000  \n",
       "97887                08       28.0    14.416667  \n",
       "163092               09       52.0     7.250000  \n",
       "38206                12       28.0     4.200000  \n",
       "32375                14       35.0    11.133333  \n",
       "15679                09       31.0    13.300000  \n",
       "98188                08       32.0     6.933333  \n",
       "143611               14       27.0     8.050000  \n",
       "120563               17       47.0    22.516667  \n",
       "65454                09       37.0     4.783333  \n",
       "160034               17       30.0    13.433333  \n",
       "1605                 19       33.0    11.383333  \n",
       "\n",
       "[15 rows x 26 columns]"
      ]
     },
     "execution_count": 130,
     "metadata": {},
     "output_type": "execute_result"
    }
   ],
   "source": [
    "#visualy acessing the data randomly\n",
    "gobike.sample(15)"
   ]
  },
  {
   "cell_type": "code",
   "execution_count": 131,
   "metadata": {},
   "outputs": [
    {
     "data": {
      "text/html": [
       "<div>\n",
       "<style scoped>\n",
       "    .dataframe tbody tr th:only-of-type {\n",
       "        vertical-align: middle;\n",
       "    }\n",
       "\n",
       "    .dataframe tbody tr th {\n",
       "        vertical-align: top;\n",
       "    }\n",
       "\n",
       "    .dataframe thead th {\n",
       "        text-align: right;\n",
       "    }\n",
       "</style>\n",
       "<table border=\"1\" class=\"dataframe\">\n",
       "  <thead>\n",
       "    <tr style=\"text-align: right;\">\n",
       "      <th></th>\n",
       "      <th>duration_sec</th>\n",
       "      <th>start_station_latitude</th>\n",
       "      <th>start_station_longitude</th>\n",
       "      <th>end_station_latitude</th>\n",
       "      <th>end_station_longitude</th>\n",
       "      <th>member_birth_year</th>\n",
       "      <th>member_age</th>\n",
       "      <th>duration_min</th>\n",
       "    </tr>\n",
       "  </thead>\n",
       "  <tbody>\n",
       "    <tr>\n",
       "      <th>count</th>\n",
       "      <td>174952.000000</td>\n",
       "      <td>174952.000000</td>\n",
       "      <td>174952.000000</td>\n",
       "      <td>174952.000000</td>\n",
       "      <td>174952.000000</td>\n",
       "      <td>174952.000000</td>\n",
       "      <td>174952.000000</td>\n",
       "      <td>174952.000000</td>\n",
       "    </tr>\n",
       "    <tr>\n",
       "      <th>mean</th>\n",
       "      <td>704.002744</td>\n",
       "      <td>37.771220</td>\n",
       "      <td>-122.351760</td>\n",
       "      <td>37.771414</td>\n",
       "      <td>-122.351335</td>\n",
       "      <td>1984.803135</td>\n",
       "      <td>34.196865</td>\n",
       "      <td>11.733379</td>\n",
       "    </tr>\n",
       "    <tr>\n",
       "      <th>std</th>\n",
       "      <td>1642.204905</td>\n",
       "      <td>0.100391</td>\n",
       "      <td>0.117732</td>\n",
       "      <td>0.100295</td>\n",
       "      <td>0.117294</td>\n",
       "      <td>10.118731</td>\n",
       "      <td>10.118731</td>\n",
       "      <td>27.370082</td>\n",
       "    </tr>\n",
       "    <tr>\n",
       "      <th>min</th>\n",
       "      <td>61.000000</td>\n",
       "      <td>37.317298</td>\n",
       "      <td>-122.453704</td>\n",
       "      <td>37.317298</td>\n",
       "      <td>-122.453704</td>\n",
       "      <td>1878.000000</td>\n",
       "      <td>18.000000</td>\n",
       "      <td>1.016667</td>\n",
       "    </tr>\n",
       "    <tr>\n",
       "      <th>25%</th>\n",
       "      <td>323.000000</td>\n",
       "      <td>37.770407</td>\n",
       "      <td>-122.411901</td>\n",
       "      <td>37.770407</td>\n",
       "      <td>-122.411647</td>\n",
       "      <td>1980.000000</td>\n",
       "      <td>27.000000</td>\n",
       "      <td>5.383333</td>\n",
       "    </tr>\n",
       "    <tr>\n",
       "      <th>50%</th>\n",
       "      <td>510.000000</td>\n",
       "      <td>37.780760</td>\n",
       "      <td>-122.398279</td>\n",
       "      <td>37.781010</td>\n",
       "      <td>-122.397437</td>\n",
       "      <td>1987.000000</td>\n",
       "      <td>32.000000</td>\n",
       "      <td>8.500000</td>\n",
       "    </tr>\n",
       "    <tr>\n",
       "      <th>75%</th>\n",
       "      <td>789.000000</td>\n",
       "      <td>37.797320</td>\n",
       "      <td>-122.283093</td>\n",
       "      <td>37.797673</td>\n",
       "      <td>-122.286533</td>\n",
       "      <td>1992.000000</td>\n",
       "      <td>39.000000</td>\n",
       "      <td>13.150000</td>\n",
       "    </tr>\n",
       "    <tr>\n",
       "      <th>max</th>\n",
       "      <td>84548.000000</td>\n",
       "      <td>37.880222</td>\n",
       "      <td>-121.874119</td>\n",
       "      <td>37.880222</td>\n",
       "      <td>-121.874119</td>\n",
       "      <td>2001.000000</td>\n",
       "      <td>141.000000</td>\n",
       "      <td>1409.133333</td>\n",
       "    </tr>\n",
       "  </tbody>\n",
       "</table>\n",
       "</div>"
      ],
      "text/plain": [
       "        duration_sec  start_station_latitude  start_station_longitude  \\\n",
       "count  174952.000000           174952.000000            174952.000000   \n",
       "mean      704.002744               37.771220              -122.351760   \n",
       "std      1642.204905                0.100391                 0.117732   \n",
       "min        61.000000               37.317298              -122.453704   \n",
       "25%       323.000000               37.770407              -122.411901   \n",
       "50%       510.000000               37.780760              -122.398279   \n",
       "75%       789.000000               37.797320              -122.283093   \n",
       "max     84548.000000               37.880222              -121.874119   \n",
       "\n",
       "       end_station_latitude  end_station_longitude  member_birth_year  \\\n",
       "count         174952.000000          174952.000000      174952.000000   \n",
       "mean              37.771414            -122.351335        1984.803135   \n",
       "std                0.100295               0.117294          10.118731   \n",
       "min               37.317298            -122.453704        1878.000000   \n",
       "25%               37.770407            -122.411647        1980.000000   \n",
       "50%               37.781010            -122.397437        1987.000000   \n",
       "75%               37.797673            -122.286533        1992.000000   \n",
       "max               37.880222            -121.874119        2001.000000   \n",
       "\n",
       "          member_age   duration_min  \n",
       "count  174952.000000  174952.000000  \n",
       "mean       34.196865      11.733379  \n",
       "std        10.118731      27.370082  \n",
       "min        18.000000       1.016667  \n",
       "25%        27.000000       5.383333  \n",
       "50%        32.000000       8.500000  \n",
       "75%        39.000000      13.150000  \n",
       "max       141.000000    1409.133333  "
      ]
     },
     "execution_count": 131,
     "metadata": {},
     "output_type": "execute_result"
    }
   ],
   "source": [
    "#checking out the summary stattistics\n",
    "gobike.describe()"
   ]
  },
  {
   "cell_type": "code",
   "execution_count": 132,
   "metadata": {},
   "outputs": [],
   "source": [
    "#saving the cleaned dataset\n",
    "gobike.to_csv('gobike_clean.csv', index=False)"
   ]
  },
  {
   "cell_type": "markdown",
   "metadata": {},
   "source": [
    "## Univariate Exploration\n",
    "\n",
    "I will start by looking at the distribution of the main variable of interest: duration of trip (duration_sec)\n",
    "\n"
   ]
  },
  {
   "cell_type": "code",
   "execution_count": 133,
   "metadata": {},
   "outputs": [
    {
     "data": {
      "image/png": "[encoded data removed]",
      "text/plain": [
       "<matplotlib.figure.Figure at 0x7f4b8f5467f0>"
      ]
     },
     "metadata": {
      "needs_background": "light"
     },
     "output_type": "display_data"
    }
   ],
   "source": [
    "# Plotting an histogram for the duration in seconds\n",
    "binsize = 500\n",
    "bins = np.arange(0, gobike['duration_sec'].max()+binsize, binsize)\n",
    "\n",
    "plt.figure(figsize=[10, 5])\n",
    "plt.hist(data = gobike, x = 'duration_sec', bins = bins)\n",
    "plt.xlabel('duration (sec)')\n",
    "plt.show()"
   ]
  },
  {
   "cell_type": "markdown",
   "metadata": {},
   "source": [
    "From the plot the distribution of the time taken for the trips is not clear, so plotting it out in minute"
   ]
  },
  {
   "cell_type": "code",
   "execution_count": 134,
   "metadata": {},
   "outputs": [
    {
     "data": {
      "image/png": "[encoded data removed]",
      "text/plain": [
       "<matplotlib.figure.Figure at 0x7f4b8f9c2b38>"
      ]
     },
     "metadata": {
      "needs_background": "light"
     },
     "output_type": "display_data"
    }
   ],
   "source": [
    "# Plotting an histogram for the duration in minutes\n",
    "binsize = 10\n",
    "\n",
    "bins = np.arange(0, gobike['duration_min'].max()+binsize, binsize)\n",
    "\n",
    "plt.figure(figsize=[10, 5])\n",
    "plt.hist(data = gobike, x = 'duration_min', bins = bins)\n",
    "plt.xlabel('duration (min)')\n",
    "plt.show()"
   ]
  },
  {
   "cell_type": "markdown",
   "metadata": {},
   "source": [
    "From the plot it can be noticed that most of the bike rides didn’t take much time and most was within 200 minute of trip duration. So looking deeper into the data by looking into rides less than 60 minutes"
   ]
  },
  {
   "cell_type": "code",
   "execution_count": 135,
   "metadata": {},
   "outputs": [
    {
     "data": {
      "image/png": "[encoded data removed]",
      "text/plain": [
       "<matplotlib.figure.Figure at 0x7f4b8fc72940>"
      ]
     },
     "metadata": {
      "needs_background": "light"
     },
     "output_type": "display_data"
    }
   ],
   "source": [
    "# Plotting an histogram for the duration in minutes and reducing the plot limit to zoom in the data\n",
    "# accessing average rides below 60mins\n",
    "\n",
    "bins = np.arange(0, 65, 1)\n",
    "ticks = np.arange(0, 65, 5)\n",
    "plt.figure(figsize=[10, 5])\n",
    "plt.hist(data=gobike, x='duration_min', bins=bins);\n",
    "plt.title('Average Bike Trip Duration (minutes)')\n",
    "plt.xticks(ticks, ticks);\n",
    "plt.xlabel('Duration (min)')\n",
    "plt.ylabel('count')\n",
    "plt.show()"
   ]
  },
  {
   "cell_type": "markdown",
   "metadata": {},
   "source": [
    "Zooming in on the plot to have a closer look at the area where most cases lie to get an idea of what the distribution is like by removing outliers exceeding 60 minutes trip duration and it indicated that most trips lasted between 5 and 13 minutes."
   ]
  },
  {
   "cell_type": "markdown",
   "metadata": {},
   "source": [
    "."
   ]
  },
  {
   "cell_type": "markdown",
   "metadata": {},
   "source": [
    "### Looking at the first categorical variable gender"
   ]
  },
  {
   "cell_type": "code",
   "execution_count": 136,
   "metadata": {},
   "outputs": [
    {
     "data": {
      "text/plain": [
       "Male      130500\n",
       "Female     40805\n",
       "Other       3647\n",
       "Name: member_gender, dtype: int64"
      ]
     },
     "execution_count": 136,
     "metadata": {},
     "output_type": "execute_result"
    }
   ],
   "source": [
    "#getting the value counts of gender\n",
    "gobike['member_gender'].value_counts()"
   ]
  },
  {
   "cell_type": "code",
   "execution_count": 137,
   "metadata": {},
   "outputs": [
    {
     "data": {
      "image/png": "[encoded data removed]",
      "text/plain": [
       "<matplotlib.figure.Figure at 0x7f4b8ff03b00>"
      ]
     },
     "metadata": {
      "needs_background": "light"
     },
     "output_type": "display_data"
    },
    {
     "data": {
      "image/png": "[encoded data removed]",
      "text/plain": [
       "<matplotlib.figure.Figure at 0x7f4b8ffcd5f8>"
      ]
     },
     "metadata": {},
     "output_type": "display_data"
    }
   ],
   "source": [
    "#plotting a bar chart of members gender\n",
    "base_color = sb.color_palette()[0]\n",
    "sb.countplot(data=gobike,x='member_gender',color=base_color)\n",
    "plt.xlabel('member gender')\n",
    "plt.title('MEMBER GENDER DISTRIBUTION')\n",
    "plt.show()\n",
    "\n",
    "#plotting a pie chart of members gender to display Percentage \n",
    "sorted_counts = gobike['member_gender'].value_counts()\n",
    "plt.pie(sorted_counts, labels=sorted_counts.index, startangle=90, autopct='%1.1f%%')\n",
    "plt.axis('square')\n",
    "plt.title('MEMBERS GENDER PERCENTAGE')\n",
    "plt.show()"
   ]
  },
  {
   "cell_type": "markdown",
   "metadata": {},
   "source": [
    "Male users made the most bike trips and with a percentage of 74.6% of the total bike trips made, and the female users with 23.3% followed by the others with 2.1%."
   ]
  },
  {
   "cell_type": "markdown",
   "metadata": {},
   "source": [
    "### Now to examine the type of users "
   ]
  },
  {
   "cell_type": "code",
   "execution_count": 138,
   "metadata": {},
   "outputs": [
    {
     "data": {
      "image/png": "[encoded data removed]",
      "text/plain": [
       "<matplotlib.figure.Figure at 0x7f4b900244a8>"
      ]
     },
     "metadata": {
      "needs_background": "light"
     },
     "output_type": "display_data"
    },
    {
     "data": {
      "image/png": "[encoded data removed]",
      "text/plain": [
       "<matplotlib.figure.Figure at 0x7f4b9019be10>"
      ]
     },
     "metadata": {},
     "output_type": "display_data"
    }
   ],
   "source": [
    "#plotting a bar chart of user type\n",
    "base_color = sb.color_palette()[0]\n",
    "sb.countplot(data=gobike,x='user_type',color=base_color)\n",
    "plt.xlabel('user type')\n",
    "plt.ylabel('type of user')\n",
    "plt.title('USER TYPE DISTRIBUTION')\n",
    "plt.show()\n",
    "\n",
    "#plotting a pie chart for user type to display Percentage \n",
    "sorted_counts = gobike['user_type'].value_counts()\n",
    "plt.pie(sorted_counts, labels=sorted_counts.index, startangle=90, autopct='%1.1f%%')\n",
    "plt.axis('square')\n",
    "plt.title('USER TYPE PERCENTAGE')\n",
    "plt.show()"
   ]
  },
  {
   "cell_type": "markdown",
   "metadata": {},
   "source": [
    "It can be seen from both plots that majoprity of the users are subscribers consisting of 90.5% of the total users in the dataset"
   ]
  },
  {
   "cell_type": "markdown",
   "metadata": {},
   "source": [
    "Now looking at the number of people who share there rides i.e bike share for all trip "
   ]
  },
  {
   "cell_type": "markdown",
   "metadata": {},
   "source": [
    "."
   ]
  },
  {
   "cell_type": "markdown",
   "metadata": {},
   "source": [
    "#### Examine the bike share variable."
   ]
  },
  {
   "cell_type": "code",
   "execution_count": 139,
   "metadata": {},
   "outputs": [
    {
     "data": {
      "image/png": "[encoded data removed]",
      "text/plain": [
       "<matplotlib.figure.Figure at 0x7f4b90201be0>"
      ]
     },
     "metadata": {
      "needs_background": "light"
     },
     "output_type": "display_data"
    },
    {
     "data": {
      "image/png": "[encoded data removed]",
      "text/plain": [
       "<matplotlib.figure.Figure at 0x7f4b9030f438>"
      ]
     },
     "metadata": {},
     "output_type": "display_data"
    }
   ],
   "source": [
    "#plotting a bar chart of bike shared trip\n",
    "base_color = sb.color_palette()[0]\n",
    "sb.countplot(data=gobike,x='bike_share_for_all_trip',color=base_color)\n",
    "plt.xlabel('Shared Bike Trip')\n",
    "plt.ylabel('count')\n",
    "plt.title('BIKE TRIP SHARE PLOT')\n",
    "plt.show()\n",
    "\n",
    "#plotting a pie chart of shared trips to display Percentage \n",
    "sorted_counts = gobike['bike_share_for_all_trip'].value_counts()\n",
    "plt.pie(sorted_counts, labels=sorted_counts.index, startangle=90, autopct='%1.1f%%')\n",
    "plt.axis('square')\n",
    "plt.title('BIKE TRIP SHARE PERCENTAGE')\n",
    "plt.show()"
   ]
  },
  {
   "cell_type": "markdown",
   "metadata": {},
   "source": [
    "Very few number of riders shared their bike trips with others and they consist of 9.9% of the total riders "
   ]
  },
  {
   "cell_type": "markdown",
   "metadata": {},
   "source": [
    "### Looking at the day of the week to know when trips were taken mostly"
   ]
  },
  {
   "cell_type": "code",
   "execution_count": 140,
   "metadata": {},
   "outputs": [
    {
     "data": {
      "image/png": "[encoded data removed]",
      "text/plain": [
       "<matplotlib.figure.Figure at 0x7f4b903812b0>"
      ]
     },
     "metadata": {
      "needs_background": "light"
     },
     "output_type": "display_data"
    },
    {
     "name": "stdout",
     "output_type": "stream",
     "text": [
      "Thursday     33712\n",
      "Tuesday      30584\n",
      "Wednesday    28426\n",
      "Friday       27663\n",
      "Monday       25641\n",
      "Sunday       14512\n",
      "Saturday     14414\n",
      "Name: start_day_of_week, dtype: int64\n"
     ]
    }
   ],
   "source": [
    "#plotting a bar chart of trips taken oer day\n",
    "days_of_the_week = ['Monday', 'Tuesday', 'Wednesday', 'Thursday', 'Friday', 'Saturday', 'Sunday']\n",
    "days_of_the_week_categorization = pd.api.types.CategoricalDtype(ordered=True, categories=days_of_the_week)\n",
    "gobike['start_day_of_week'] = gobike['start_day_of_week'].astype(days_of_the_week_categorization)\n",
    "\n",
    "base_color = sb.color_palette()[0]\n",
    "\n",
    "sb.countplot(data=gobike,x='start_day_of_week',color=base_color)\n",
    "plt.xlabel('Day of the Week')\n",
    "plt.ylabel('count')\n",
    "plt.title('BIKE TRIPS PER DAY')\n",
    "plt.show()\n",
    "print(gobike['start_day_of_week'].value_counts())"
   ]
  },
  {
   "cell_type": "markdown",
   "metadata": {},
   "source": [
    "Most of the bike trips were taken during the weekdays indicating that the bikes were mostly likely used for commuting with most of the trip happening on the Thursday weekday."
   ]
  },
  {
   "cell_type": "markdown",
   "metadata": {},
   "source": [
    "### To know what hour of the day when most of the trips were started"
   ]
  },
  {
   "cell_type": "code",
   "execution_count": 141,
   "metadata": {},
   "outputs": [
    {
     "data": {
      "image/png": "[encoded data removed]",
      "text/plain": [
       "<matplotlib.figure.Figure at 0x7f4ba4369978>"
      ]
     },
     "metadata": {
      "needs_background": "light"
     },
     "output_type": "display_data"
    },
    {
     "name": "stdout",
     "output_type": "stream",
     "text": [
      "17    20904\n",
      "08    20227\n",
      "18    16118\n",
      "09    15204\n",
      "16    13473\n",
      "07    10231\n",
      "19     9424\n",
      "15     8646\n",
      "12     8220\n",
      "13     8098\n",
      "10     7970\n",
      "14     7677\n",
      "11     7461\n",
      "20     6211\n",
      "21     4400\n",
      "06     3293\n",
      "22     2793\n",
      "23     1572\n",
      "05      866\n",
      "01      525\n",
      "02      355\n",
      "04      227\n",
      "03      164\n",
      "Name: start_hour_of_trip, dtype: int64\n"
     ]
    }
   ],
   "source": [
    "#plotting a bar chart \n",
    "hour_of_the_day = ['01', '02', '03','04', '05', '06','07', '08', '09', '10', '11', '12','13', '14', '15','16', '17', '18', '19','20', '21', '22','23']\n",
    "hour_of_the_day_categorization = pd.api.types.CategoricalDtype(ordered=True, categories=hour_of_the_day)\n",
    "gobike['start_hour_of_trip'] = gobike['start_hour_of_trip'].astype(hour_of_the_day_categorization)\n",
    "\n",
    "base_color = sb.color_palette()[0]\n",
    "\n",
    "sb.countplot(data=gobike,x='start_hour_of_trip',color=base_color)\n",
    "plt.xlabel('Hour of trip')\n",
    "plt.ylabel('count')\n",
    "plt.title('TRIPS STARTED PER HOUR')\n",
    "plt.show()\n",
    "print(gobike['start_hour_of_trip'].value_counts())"
   ]
  },
  {
   "cell_type": "markdown",
   "metadata": {},
   "source": [
    "From the distribution most of the trip were started at the hour 8hr, 9hr, 17hr and 18hr which are times people leave for work (8hr and 9hr) and head back home from work(17hr and 18hr) indicating that the likely primary usage is for commuting."
   ]
  },
  {
   "cell_type": "markdown",
   "metadata": {},
   "source": [
    "### Now looking at the age distribution of riders"
   ]
  },
  {
   "cell_type": "code",
   "execution_count": 142,
   "metadata": {},
   "outputs": [
    {
     "data": {
      "image/png": "[encoded data removed]",
      "text/plain": [
       "<matplotlib.figure.Figure at 0x7f4b904c3da0>"
      ]
     },
     "metadata": {
      "needs_background": "light"
     },
     "output_type": "display_data"
    }
   ],
   "source": [
    "#Histogram showing the distribution of ages of riders\n",
    "binsize = 2\n",
    "bins = np.arange(0, gobike['member_age'].max()+binsize, binsize)\n",
    "\n",
    "plt.figure(figsize=[10, 5])\n",
    "plt.hist(data = gobike, x = 'member_age', bins = bins)\n",
    "plt.xlabel('Age')\n",
    "plt.show()"
   ]
  },
  {
   "cell_type": "markdown",
   "metadata": {},
   "source": [
    "The age distribution indicates that most of the bike users lie between 20 to 40 years of age."
   ]
  },
  {
   "cell_type": "code",
   "execution_count": 143,
   "metadata": {},
   "outputs": [
    {
     "data": {
      "image/png": "[encoded data removed]",
      "text/plain": [
       "<matplotlib.figure.Figure at 0x7f4b90361320>"
      ]
     },
     "metadata": {
      "needs_background": "light"
     },
     "output_type": "display_data"
    }
   ],
   "source": [
    "# creating an age_group column to see the distribution clearly and easily\n",
    "gobike['age_groups'] = pd.cut(x=gobike['member_age'], bins=[1, 10, 20, 30, 40, 50, 60, 70, 80, 90, 100]) \n",
    "plt.figure(figsize=[10, 5])\n",
    "color = sb.color_palette()[0]\n",
    "sb.countplot(data=gobike,x='age_groups',color=color);"
   ]
  },
  {
   "cell_type": "markdown",
   "metadata": {},
   "source": [
    "The age group distribution indicates that most of the riders were in the 20 to 30 years of age group."
   ]
  },
  {
   "cell_type": "markdown",
   "metadata": {},
   "source": [
    "### Examining the distribution of start station id and end station id"
   ]
  },
  {
   "cell_type": "code",
   "execution_count": 144,
   "metadata": {},
   "outputs": [
    {
     "data": {
      "image/png": "[encoded data removed]",
      "text/plain": [
       "<matplotlib.figure.Figure at 0x7f4b8f532ef0>"
      ]
     },
     "metadata": {
      "needs_background": "light"
     },
     "output_type": "display_data"
    },
    {
     "name": "stdout",
     "output_type": "stream",
     "text": [
      "58.0     3649\n",
      "67.0     3408\n",
      "81.0     2952\n",
      "21.0     2711\n",
      "3.0      2620\n",
      "30.0     2577\n",
      "15.0     2541\n",
      "22.0     2216\n",
      "16.0     2191\n",
      "5.0      2144\n",
      "6.0      1975\n",
      "239.0    1761\n",
      "243.0    1712\n",
      "50.0     1702\n",
      "27.0     1678\n",
      "66.0     1675\n",
      "17.0     1646\n",
      "93.0     1496\n",
      "90.0     1479\n",
      "44.0     1476\n",
      "23.0     1420\n",
      "245.0    1322\n",
      "19.0     1311\n",
      "104.0    1274\n",
      "61.0     1257\n",
      "182.0    1231\n",
      "126.0    1226\n",
      "114.0    1224\n",
      "256.0    1176\n",
      "350.0    1154\n",
      "         ... \n",
      "209.0      54\n",
      "217.0      54\n",
      "361.0      53\n",
      "46.0       53\n",
      "297.0      49\n",
      "358.0      48\n",
      "283.0      47\n",
      "318.0      37\n",
      "362.0      36\n",
      "228.0      35\n",
      "287.0      32\n",
      "288.0      32\n",
      "290.0      31\n",
      "298.0      30\n",
      "378.0      28\n",
      "307.0      27\n",
      "359.0      25\n",
      "229.0      23\n",
      "226.0      19\n",
      "303.0      19\n",
      "225.0      17\n",
      "388.0      17\n",
      "398.0      16\n",
      "389.0      13\n",
      "234.0       9\n",
      "301.0       9\n",
      "51.0        7\n",
      "224.0       4\n",
      "300.0       3\n",
      "344.0       2\n",
      "Name: start_station_id, Length: 329, dtype: int64\n"
     ]
    }
   ],
   "source": [
    "# distrubtion of start station using the id's.\n",
    "binsize = 2\n",
    "bins = np.arange(0, gobike['start_station_id'].astype(float).max()+binsize, binsize)\n",
    "\n",
    "plt.figure(figsize=[18, 10])\n",
    "plt.xticks(range(0, 401, 10))\n",
    "plt.hist(data = gobike, x = 'start_station_id', bins = bins)\n",
    "plt.title('Distribution of Start Station')\n",
    "plt.xlabel('Start Station id')\n",
    "plt.ylabel('count')\n",
    "plt.show()\n",
    "print(gobike['start_station_id'].value_counts())"
   ]
  },
  {
   "cell_type": "code",
   "execution_count": 145,
   "metadata": {},
   "outputs": [
    {
     "data": {
      "image/png": "[encoded data removed]",
      "text/plain": [
       "<matplotlib.figure.Figure at 0x7f4b8fdd9128>"
      ]
     },
     "metadata": {
      "needs_background": "light"
     },
     "output_type": "display_data"
    },
    {
     "name": "stdout",
     "output_type": "stream",
     "text": [
      "67.0     4624\n",
      "58.0     3709\n",
      "21.0     3461\n",
      "15.0     3151\n",
      "30.0     2870\n",
      "3.0      2854\n",
      "81.0     2782\n",
      "6.0      2341\n",
      "16.0     2264\n",
      "5.0      2153\n",
      "22.0     1970\n",
      "27.0     1780\n",
      "239.0    1780\n",
      "44.0     1733\n",
      "50.0     1667\n",
      "66.0     1628\n",
      "17.0     1622\n",
      "93.0     1590\n",
      "90.0     1440\n",
      "23.0     1414\n",
      "182.0    1392\n",
      "19.0     1366\n",
      "245.0    1321\n",
      "114.0    1271\n",
      "350.0    1270\n",
      "36.0     1247\n",
      "61.0     1216\n",
      "126.0    1182\n",
      "104.0    1135\n",
      "24.0     1116\n",
      "         ... \n",
      "358.0      50\n",
      "191.0      48\n",
      "217.0      48\n",
      "362.0      46\n",
      "297.0      45\n",
      "292.0      45\n",
      "318.0      42\n",
      "299.0      38\n",
      "307.0      37\n",
      "222.0      35\n",
      "287.0      34\n",
      "290.0      33\n",
      "303.0      30\n",
      "298.0      28\n",
      "378.0      25\n",
      "288.0      24\n",
      "359.0      20\n",
      "229.0      20\n",
      "225.0      19\n",
      "226.0      19\n",
      "388.0      18\n",
      "228.0      16\n",
      "398.0      12\n",
      "389.0      11\n",
      "234.0      10\n",
      "51.0        9\n",
      "300.0       7\n",
      "344.0       6\n",
      "224.0       5\n",
      "301.0       5\n",
      "Name: end_station_id, Length: 329, dtype: int64\n"
     ]
    }
   ],
   "source": [
    "# distrubtion of End station using the id's.\n",
    "binsize = 2\n",
    "bins = np.arange(0, gobike['end_station_id'].astype(float).max()+binsize, binsize)\n",
    "\n",
    "plt.figure(figsize=[18, 10])\n",
    "plt.xticks(range(0, 401, 10))\n",
    "plt.hist(data = gobike, x = 'end_station_id', bins = bins)\n",
    "plt.title('Distribution of End Station')\n",
    "plt.xlabel('End Station id')\n",
    "plt.ylabel('count')\n",
    "plt.show()\n",
    "print(gobike['end_station_id'].value_counts())"
   ]
  },
  {
   "cell_type": "markdown",
   "metadata": {},
   "source": [
    "Observing both distribution for start and end station they both have a similar distribution with most of the trips starting and ending at the stations with id67 and id58."
   ]
  },
  {
   "cell_type": "markdown",
   "metadata": {},
   "source": []
  },
  {
   "cell_type": "markdown",
   "metadata": {},
   "source": [
    "### Discuss the distribution(s) of your variable(s) of interest. Were there any unusual points? Did you need to perform any transformations?\n",
    "\n",
    "> The duration_secs variable had a large range of values, I looked at the data first with the duration secs variable before converting the duration in seconds to minutes for better and clearer understanding and indication. viewing after the conversion from seconds to minutes it indicated that majority of the trips lasted between 5 and 13 minutes.\n",
    "\n",
    "### Of the features you investigated, were there any unusual distributions? Did you perform any operations on the data to tidy, adjust, or change the form of the data? If so, why did you do this?\n",
    "\n",
    "> In order to be able to get a clear distribution of the start time of the trips, the start date, start time and start day had to be extracted from the start time variable, and the age column had to be created by subtracting the year the data was taken from the member’s birth year to get the distribution of the ages."
   ]
  },
  {
   "cell_type": "markdown",
   "metadata": {},
   "source": [
    "## Bivariate Exploration\n",
    "\n",
    "I will be looking at how each variable influence each other"
   ]
  },
  {
   "cell_type": "markdown",
   "metadata": {},
   "source": [
    "### Examining the interaction between trip duration in minutes and gender"
   ]
  },
  {
   "cell_type": "code",
   "execution_count": 146,
   "metadata": {},
   "outputs": [
    {
     "data": {
      "image/png": "[encoded data removed]",
      "text/plain": [
       "<matplotlib.figure.Figure at 0x7f4b9008bb38>"
      ]
     },
     "metadata": {
      "needs_background": "light"
     },
     "output_type": "display_data"
    }
   ],
   "source": [
    "#plotting a barplot to examine the inetraction between gender and duration \n",
    "base_color = sb.color_palette()[0]\n",
    "sb.barplot(data = gobike, x='member_gender',y='duration_min',color=base_color)\n",
    "plt.xlabel('Gender')\n",
    "plt.ylabel('Trip Duration(min)')\n",
    "plt.title('Average trip duration of Gender')\n",
    "plt.show()"
   ]
  },
  {
   "cell_type": "markdown",
   "metadata": {},
   "source": [
    "The male riders started more rides than the other genders, but has the lowest average for the duration of trips (minute)."
   ]
  },
  {
   "cell_type": "code",
   "execution_count": 147,
   "metadata": {},
   "outputs": [
    {
     "data": {
      "image/png": "[encoded data removed]",
      "text/plain": [
       "<matplotlib.figure.Figure at 0x7f4b90638780>"
      ]
     },
     "metadata": {
      "needs_background": "light"
     },
     "output_type": "display_data"
    }
   ],
   "source": [
    "#plotting a box plot to examine duration in minutes and gender\n",
    "plt.figure(figsize = [10, 5])\n",
    "base_color = sb.color_palette()[0]\n",
    "sb.boxplot(data = gobike, x = 'member_gender', y = 'duration_min', color = base_color)\n",
    "plt.ylim([0, 60])\n",
    "plt.xlabel('Gender')\n",
    "plt.ylabel('Duration (mins)')\n",
    "plt.show()"
   ]
  },
  {
   "cell_type": "markdown",
   "metadata": {},
   "source": [
    "The box plot indicates that the difference shhown between each gender for duation of trip is not significant."
   ]
  },
  {
   "cell_type": "markdown",
   "metadata": {},
   "source": [
    "### What is the average trip duration for each user type"
   ]
  },
  {
   "cell_type": "code",
   "execution_count": 148,
   "metadata": {},
   "outputs": [
    {
     "data": {
      "image/png": "[encoded data removed]",
      "text/plain": [
       "<matplotlib.figure.Figure at 0x7f4b9067cbe0>"
      ]
     },
     "metadata": {
      "needs_background": "light"
     },
     "output_type": "display_data"
    }
   ],
   "source": [
    "#plotting a barplot to examine the inetraction between gender and duration \n",
    "base_color = sb.color_palette()[0]\n",
    "sb.barplot(data = gobike, x='user_type',y='duration_min',color=base_color)\n",
    "plt.xlabel('user type')\n",
    "plt.ylabel('Trip Duration(min)')\n",
    "plt.title('Average trip duration of user types')\n",
    "\n",
    "plt.show()"
   ]
  },
  {
   "cell_type": "code",
   "execution_count": 149,
   "metadata": {},
   "outputs": [
    {
     "data": {
      "image/png": "[encoded data removed]",
      "text/plain": [
       "<matplotlib.figure.Figure at 0x7f4b906b0940>"
      ]
     },
     "metadata": {
      "needs_background": "light"
     },
     "output_type": "display_data"
    }
   ],
   "source": [
    "#plotting box plot\n",
    "plt.figure(figsize = [10, 5])\n",
    "base_color = sb.color_palette()[0]\n",
    "sb.boxplot(data = gobike, x = 'user_type', y = 'duration_min', color = base_color)\n",
    "plt.ylim([0, 60])\n",
    "plt.xlabel('User Type')\n",
    "plt.ylabel('Duration (min)');"
   ]
  },
  {
   "cell_type": "markdown",
   "metadata": {},
   "source": [
    "The customer users have the highest average trip duration than the subscribers despite being less in numbers compared to the subscribers as shown by both plots."
   ]
  },
  {
   "cell_type": "markdown",
   "metadata": {},
   "source": [
    "### Which day of the week did bike trip take longer "
   ]
  },
  {
   "cell_type": "code",
   "execution_count": 150,
   "metadata": {},
   "outputs": [
    {
     "data": {
      "image/png": "[encoded data removed]",
      "text/plain": [
       "<matplotlib.figure.Figure at 0x7f4b90727d68>"
      ]
     },
     "metadata": {
      "needs_background": "light"
     },
     "output_type": "display_data"
    }
   ],
   "source": [
    "#ploting a bar plot of days against duration\n",
    "base_color = sb.color_palette()[0]\n",
    "sb.barplot(data = gobike, x='start_day_of_week',y='duration_min',color=base_color)\n",
    "plt.xlabel('Day')\n",
    "plt.ylabel('Duration(mins)')\n",
    "plt.title('Average trip duration per day of the week')\n",
    "plt.show()"
   ]
  },
  {
   "cell_type": "code",
   "execution_count": 151,
   "metadata": {},
   "outputs": [
    {
     "data": {
      "image/png": "[encoded data removed]",
      "text/plain": [
       "<matplotlib.figure.Figure at 0x7f4b90576f60>"
      ]
     },
     "metadata": {
      "needs_background": "light"
     },
     "output_type": "display_data"
    }
   ],
   "source": [
    "#plotting a box plot to examine correllation between duration in minutes and gender\n",
    "plt.figure(figsize = [10, 5])\n",
    "base_color = sb.color_palette()[0]\n",
    "sb.boxplot(data = gobike, x = 'start_day_of_week', y = 'duration_min', color = base_color)\n",
    "plt.ylim([0, 60])\n",
    "plt.xlabel('Day')\n",
    "plt.ylabel('Duration (mins)')\n",
    "plt.show()"
   ]
  },
  {
   "cell_type": "markdown",
   "metadata": {},
   "source": [
    "Even though more rides were taken during the weekdays, the average duration in minutes on the weekends is slightly higher during the week. The trips duration during weekdays are similar on each individual day and not much difference between the weekends either."
   ]
  },
  {
   "cell_type": "markdown",
   "metadata": {},
   "source": [
    "### What is the distribution of user type per week"
   ]
  },
  {
   "cell_type": "code",
   "execution_count": 152,
   "metadata": {},
   "outputs": [
    {
     "data": {
      "image/png": "[encoded data removed]",
      "text/plain": [
       "<matplotlib.figure.Figure at 0x7f4b8f5c26d8>"
      ]
     },
     "metadata": {
      "needs_background": "light"
     },
     "output_type": "display_data"
    }
   ],
   "source": [
    "plt.figure(figsize=[10, 8])\n",
    "sb.countplot(data=gobike, x='start_day_of_week', hue='user_type')\n",
    "plt.xlabel('Day')\n",
    "plt.ylabel('number of rides')\n",
    "plt.title(\"Weekly usage of bike by user type\")\n",
    "plt.show()"
   ]
  },
  {
   "cell_type": "markdown",
   "metadata": {},
   "source": [
    "The subscribers are way more in numbers than the customers, it can be noticed that a significant decrease on weekends of the numbers subscriber trips indicate that the subscribers have a primary reason for subscription which they use mostly on weekdays"
   ]
  },
  {
   "cell_type": "markdown",
   "metadata": {},
   "source": [
    "### What is the distribution of genders per weekday"
   ]
  },
  {
   "cell_type": "code",
   "execution_count": 153,
   "metadata": {},
   "outputs": [
    {
     "data": {
      "image/png": "[encoded data removed]",
      "text/plain": [
       "<matplotlib.figure.Figure at 0x7f4b8f7d3780>"
      ]
     },
     "metadata": {
      "needs_background": "light"
     },
     "output_type": "display_data"
    }
   ],
   "source": [
    "plt.figure(figsize=[10, 8])\n",
    "sb.countplot(data=gobike, x='start_day_of_week', hue='member_gender')\n",
    "plt.xlabel('Gender')\n",
    "plt.ylabel('number of rides')\n",
    "plt.title(\"Weekly usage of bike by Gender\")\n",
    "plt.show()"
   ]
  },
  {
   "cell_type": "markdown",
   "metadata": {},
   "source": [
    "It appears that the genders are evenly distributed across the days of the week according to their respective counts."
   ]
  },
  {
   "cell_type": "markdown",
   "metadata": {},
   "source": [
    "### What is the relationship between genders and users"
   ]
  },
  {
   "cell_type": "code",
   "execution_count": 154,
   "metadata": {},
   "outputs": [
    {
     "data": {
      "image/png": "[encoded data removed]",
      "text/plain": [
       "<matplotlib.figure.Figure at 0x7f4b8fefa4e0>"
      ]
     },
     "metadata": {
      "needs_background": "light"
     },
     "output_type": "display_data"
    }
   ],
   "source": [
    "plt.figure(figsize=[10, 8])\n",
    "sb.countplot(data=gobike, x='member_gender', hue='user_type')\n",
    "plt.xlabel('Gender')\n",
    "plt.ylabel('number of users')\n",
    "plt.title(\"User type of bike by Gender\")\n",
    "plt.show()"
   ]
  },
  {
   "cell_type": "markdown",
   "metadata": {},
   "source": [
    " It also  appears that the genders are evenly distributed across the user type"
   ]
  },
  {
   "cell_type": "markdown",
   "metadata": {},
   "source": [
    "### which gender shared their bike trip more"
   ]
  },
  {
   "cell_type": "code",
   "execution_count": 155,
   "metadata": {},
   "outputs": [
    {
     "data": {
      "image/png": "[encoded data removed]",
      "text/plain": [
       "<matplotlib.figure.Figure at 0x7f4b8ff3ceb8>"
      ]
     },
     "metadata": {
      "needs_background": "light"
     },
     "output_type": "display_data"
    }
   ],
   "source": [
    "plt.figure(figsize=[10, 8])\n",
    "sb.countplot(data=gobike, x='member_gender', hue='bike_share_for_all_trip')\n",
    "plt.xlabel('Gender')\n",
    "plt.ylabel('number of users')\n",
    "plt.title(\"share of bike trip by Gender\")\n",
    "plt.show()"
   ]
  },
  {
   "cell_type": "markdown",
   "metadata": {},
   "source": [
    "Most of the male and female riders did not share their trip during their rides."
   ]
  },
  {
   "cell_type": "markdown",
   "metadata": {},
   "source": [
    "### Talk about some of the relationships you observed in this part of the investigation. How did the feature(s) of interest vary with other features in the dataset?\n",
    "\n",
    "> Subscribing riders are way more than customers but has the lower average for duration of trip, also that the male users are more than the other genders but it was observed that while the male users take more trips, the other genders take a longer trip than male the male users.\n",
    "Also the riding patterns of subscribers and customers varies, such that the subscribers use the bike system mostly on weekdays(Monday-Friday), indicating that it could be for the use of commuting to work, whereas the usage of costumers suggests that they primarily use the bike system for basic purposes as it’s usage is almost very similar during weekdays and weekends.\n",
    "\n",
    "\n",
    "### Did you observe any interesting relationships between the other features (not the main feature(s) of interest)?\n",
    "\n",
    "> A relationship was observed between the, Start station id and end station id indicating trips starting and ending at some station but didn't yield much to determine the trip durations. \n"
   ]
  },
  {
   "cell_type": "markdown",
   "metadata": {},
   "source": [
    "## Multivariate Exploration\n",
    "\n",
    ">"
   ]
  },
  {
   "cell_type": "markdown",
   "metadata": {},
   "source": [
    "### Looking at how gender and user type influence the duration of trip"
   ]
  },
  {
   "cell_type": "code",
   "execution_count": 156,
   "metadata": {},
   "outputs": [
    {
     "data": {
      "image/png": "[encoded data removed]",
      "text/plain": [
       "<matplotlib.figure.Figure at 0x7f4ba4c92cc0>"
      ]
     },
     "metadata": {
      "needs_background": "light"
     },
     "output_type": "display_data"
    }
   ],
   "source": [
    "#Plotting a bar plot to examine the influence of gender nd user type on trip duration\n",
    "ax = sb.barplot(data = gobike, x = 'user_type', y = 'duration_min', hue = 'member_gender')\n",
    "ax.legend(loc = 8, ncol = 3, framealpha = 1, title = 'member_gender')\n",
    "\n",
    "plt.show()"
   ]
  },
  {
   "cell_type": "code",
   "execution_count": 157,
   "metadata": {},
   "outputs": [
    {
     "data": {
      "image/png": "[encoded data removed]",
      "text/plain": [
       "<matplotlib.figure.Figure at 0x7f4ba3902e10>"
      ]
     },
     "metadata": {
      "needs_background": "light"
     },
     "output_type": "display_data"
    }
   ],
   "source": [
    "#using a heatmap to examine influence of gender nd user type on trip duration\n",
    "cat_means = gobike.groupby(['user_type', 'member_gender']).mean()['duration_min']\n",
    "cat_means = cat_means.reset_index(name = 'duration_min_avg')\n",
    "cat_means = cat_means.pivot(index = 'member_gender', columns = 'user_type',\n",
    "                            values = 'duration_min_avg')\n",
    "sb.heatmap(cat_means, annot = True, fmt = '.3f',\n",
    "           cbar_kws = {'label' : 'mean(duration_min)'})\n",
    "plt.show()"
   ]
  },
  {
   "cell_type": "markdown",
   "metadata": {},
   "source": [
    "The above heatmap indicates that the other and female customers embark on a longer bike trip than the male customers despite most of the customers being of the male gender, also the other and female subscriber embark on a longer bike trip than the male customers despite most of the subscribers being of the male gender."
   ]
  },
  {
   "cell_type": "markdown",
   "metadata": {},
   "source": [
    "### Looking at how day of the week and user type influence the duration of trip"
   ]
  },
  {
   "cell_type": "code",
   "execution_count": 158,
   "metadata": {},
   "outputs": [
    {
     "data": {
      "image/png": "[encoded data removed]",
      "text/plain": [
       "<matplotlib.figure.Figure at 0x7f4b8fa252e8>"
      ]
     },
     "metadata": {
      "needs_background": "light"
     },
     "output_type": "display_data"
    }
   ],
   "source": [
    " #using a heatmap to examine influence of dayof the week nd user type on trip duration\n",
    "cat_means = gobike.groupby(['user_type', 'start_day_of_week']).mean()['duration_min']\n",
    "cat_means = cat_means.reset_index(name = 'duration_min_avg')\n",
    "cat_means = cat_means.pivot(index = 'start_day_of_week', columns = 'user_type',\n",
    "                            values = 'duration_min_avg')\n",
    "sb.heatmap(cat_means, annot = True, fmt = '.3f',\n",
    "           cbar_kws = {'label' : 'mean(duration_min)'})\n",
    "plt.show()  \n"
   ]
  },
  {
   "cell_type": "markdown",
   "metadata": {},
   "source": [
    "Subscribers take shorter trips compared to customers during each day of the week, as indicated on the heatmap. On Saturdays and Sundays, the trip durations increases significantly for both the customer and subscribing user, the customer type of user experienced the most significant increase. During the weekdays i.e Monday to friday, the average duration for trips of subscribers was stable compared that of the customer users. The longer trips were taken on Sunday by the customer users."
   ]
  },
  {
   "cell_type": "markdown",
   "metadata": {},
   "source": [
    "### Investigating how gender trip during the days of the week influence the duration of trip"
   ]
  },
  {
   "cell_type": "code",
   "execution_count": 159,
   "metadata": {},
   "outputs": [
    {
     "data": {
      "image/png": "[encoded data removed]",
      "text/plain": [
       "<matplotlib.figure.Figure at 0x7f4b90021c50>"
      ]
     },
     "metadata": {
      "needs_background": "light"
     },
     "output_type": "display_data"
    }
   ],
   "source": [
    "#using a heatmap to examine influence of gender nd day of the week on trip duration\n",
    "cat_means = gobike.groupby(['member_gender', 'start_day_of_week']).mean()['duration_min']\n",
    "cat_means = cat_means.reset_index(name = 'duration_min_avg')\n",
    "cat_means = cat_means.pivot(index = 'start_day_of_week', columns = 'member_gender',\n",
    "                            values = 'duration_min_avg')\n",
    "sb.heatmap(cat_means, annot = True, fmt = '.3f',\n",
    "           cbar_kws = {'label' : 'mean(duration_min)'})\n",
    "plt.show()  "
   ]
  },
  {
   "cell_type": "markdown",
   "metadata": {},
   "source": [
    "Male bike users take shorter trips compared to female and other gender during each day of the week, as indicated on the heatmap. On Saturdays and Sundays, the trip durations also increased significantly for all the genders, also a significant increase in the trip duration was experienced during the weekends for all genders. During the weekdays i.e Monday to Friday, the average duration for trips of the male and female seem stable compared that of the other gender."
   ]
  },
  {
   "cell_type": "markdown",
   "metadata": {},
   "source": [
    "### Looking at how the ages of user type influence the duration of trip"
   ]
  },
  {
   "cell_type": "code",
   "execution_count": 160,
   "metadata": {},
   "outputs": [
    {
     "data": {
      "image/png": "[encoded data removed]",
      "text/plain": [
       "<matplotlib.figure.Figure at 0x7f4b8ff4e4e0>"
      ]
     },
     "metadata": {
      "needs_background": "light"
     },
     "output_type": "display_data"
    }
   ],
   "source": [
    "#Scatterplot for visualisation \n",
    "g= sb.FacetGrid(data = gobike, col = 'user_type', col_wrap = 2, xlim = [0, 100], ylim = [0, 100])\n",
    "g.map(plt.scatter, 'member_age', 'duration_min', alpha=0.25)\n",
    "g.set_xlabels('Age')\n",
    "g.set_ylabels('Duration (min)');"
   ]
  },
  {
   "cell_type": "markdown",
   "metadata": {},
   "source": [
    "From the scatter plot it can be seen that both the Customer and Subscribing users have the same trends for age and trip duration but the subscribing users having a wider range of age group indicating that age plays a role for a member to subscribe especially for older memebers."
   ]
  },
  {
   "cell_type": "markdown",
   "metadata": {},
   "source": [
    "### Looking at how the ages of each gender influence the duration of trip"
   ]
  },
  {
   "cell_type": "code",
   "execution_count": 161,
   "metadata": {},
   "outputs": [
    {
     "data": {
      "image/png": "[encoded data removed]",
      "text/plain": [
       "<matplotlib.figure.Figure at 0x7f4b8fcf9438>"
      ]
     },
     "metadata": {
      "needs_background": "light"
     },
     "output_type": "display_data"
    }
   ],
   "source": [
    "g= sb.FacetGrid(data = gobike, col = 'member_gender', col_wrap = 2, xlim = [0, 100], ylim = [0, 100])\n",
    "g.map(plt.scatter, 'member_age', 'duration_min', alpha=0.25)\n",
    "g.set_xlabels('Age')\n",
    "g.set_ylabels('Duration (min)');"
   ]
  },
  {
   "cell_type": "markdown",
   "metadata": {},
   "source": [
    "The male age group between 20 and 40 years of age took more longer trips than the female and other gender indicating that the age plays a factor on how long a rider travels."
   ]
  },
  {
   "cell_type": "markdown",
   "metadata": {},
   "source": [
    "### Talk about some of the relationships you observed in this part of the investigation. Were there features that strengthened each other in terms of looking at your feature(s) of interest?\n",
    "\n",
    "> In this part of investigation some of the trends and patterns observed in the previous bivariate and univariate investigations were further bolstered. Relationships between variables were plotted and visualized, information collected from each visualization were presented appropriately. The age group further strengthened that subscribers is age dependent especially for the older ager group, relationship between the gender and age group to determine duration for trip was also shown to be true that the youger age group take the longer trips.\n",
    "\n",
    "### Were there any interesting or surprising interactions between features?\n",
    "\n",
    "> The interactions between gender and duration of trip where the gender having a lower usage had the longer trip duration same for the user type and duration of trip, but the user type interaction with the duration of trip indicates that the subscribers uses the bike system for certain purposes."
   ]
  },
  {
   "cell_type": "markdown",
   "metadata": {},
   "source": [
    "## Conclusions\n",
    "> The age of the riders influence how long a bike trip a rider takes irrespective of the gender and user type, also longer trips duration happens during the weekends by both type of users, this was carried out by first wrangling the data and cleaning the data, univariate analysis was carried out on each each variable before moving to bivariate eploration investigating 2 variables together and finally exploring the data multivarietly.\n",
    "\n"
   ]
  },
  {
   "cell_type": "markdown",
   "metadata": {},
   "source": [
    "\n",
    "\n"
   ]
  },
  {
   "cell_type": "code",
   "execution_count": null,
   "metadata": {},
   "outputs": [],
   "source": []
  }
 ],
 "metadata": {
  "kernelspec": {
   "display_name": "Python 3",
   "language": "python",
   "name": "python3"
  },
  "language_info": {
   "codemirror_mode": {
    "name": "ipython",
    "version": 3
   },
   "file_extension": ".py",
   "mimetype": "text/x-python",
   "name": "python",
   "nbconvert_exporter": "python",
   "pygments_lexer": "ipython3",
   "version": "3.6.3"
  }
 },
 "nbformat": 4,
 "nbformat_minor": 2
}
